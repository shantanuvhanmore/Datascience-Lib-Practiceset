{
 "cells": [
  {
   "cell_type": "markdown",
   "id": "c8f44139-318e-41f1-a33e-85c510eccb7e",
   "metadata": {},
   "source": [
    "**Create a 1D array of numbers from 1 to 12 using NumPy. Then reshape it to a 3x4 matrix.**"
   ]
  },
  {
   "cell_type": "code",
   "execution_count": 1,
   "id": "9c629018-ebb1-40d6-886a-e624f5f22884",
   "metadata": {},
   "outputs": [],
   "source": [
    "import numpy as np"
   ]
  },
  {
   "cell_type": "code",
   "execution_count": 4,
   "id": "406fa824-bd54-4a8f-9c84-1efc9bef7c38",
   "metadata": {},
   "outputs": [
    {
     "data": {
      "text/plain": [
       "array([ 1,  2,  3,  4,  5,  6,  7,  8,  9, 10, 11, 12])"
      ]
     },
     "execution_count": 4,
     "metadata": {},
     "output_type": "execute_result"
    }
   ],
   "source": [
    "#creating 1D array\n",
    "arr=np.arange(1,13,1)\n",
    "arr"
   ]
  },
  {
   "cell_type": "code",
   "execution_count": 6,
   "id": "4d3a1460-8877-45af-aa77-60e8b6ceb16e",
   "metadata": {},
   "outputs": [
    {
     "data": {
      "text/plain": [
       "array([[ 1,  2,  3,  4],\n",
       "       [ 5,  6,  7,  8],\n",
       "       [ 9, 10, 11, 12]])"
      ]
     },
     "execution_count": 6,
     "metadata": {},
     "output_type": "execute_result"
    }
   ],
   "source": [
    "#reshaping to 3x4 matrix\n",
    "arr=arr.reshape(3,4)\n",
    "arr"
   ]
  }
 ],
 "metadata": {
  "kernelspec": {
   "display_name": "Python 3 (ipykernel)",
   "language": "python",
   "name": "python3"
  },
  "language_info": {
   "codemirror_mode": {
    "name": "ipython",
    "version": 3
   },
   "file_extension": ".py",
   "mimetype": "text/x-python",
   "name": "python",
   "nbconvert_exporter": "python",
   "pygments_lexer": "ipython3",
   "version": "3.11.13"
  }
 },
 "nbformat": 4,
 "nbformat_minor": 5
}
