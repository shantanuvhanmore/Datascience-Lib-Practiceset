{
 "cells": [
  {
   "cell_type": "markdown",
   "id": "fd4373f4-ff01-44b8-9f8a-9a29778ebf4e",
   "metadata": {},
   "source": [
    "**Q8. Given array a = np.array([10, 20, 30, 40, 50]), extract the first 3 elements.**"
   ]
  },
  {
   "cell_type": "code",
   "execution_count": 7,
   "id": "663749d5-6d03-4248-8e72-7a2de189542d",
   "metadata": {},
   "outputs": [],
   "source": [
    "import numpy as np"
   ]
  },
  {
   "cell_type": "code",
   "execution_count": 8,
   "id": "60963238-76d8-4116-8895-1da8e692c5ea",
   "metadata": {},
   "outputs": [],
   "source": [
    "a = np.array([10, 20, 30, 40, 50])"
   ]
  },
  {
   "cell_type": "code",
   "execution_count": 15,
   "id": "6dae094c-c69d-482a-a0cf-de24754c314d",
   "metadata": {},
   "outputs": [],
   "source": [
    "extracted = a[0:3]"
   ]
  },
  {
   "cell_type": "code",
   "execution_count": 16,
   "id": "e47696b9-feff-4979-95b5-a302c6a40c91",
   "metadata": {},
   "outputs": [
    {
     "data": {
      "text/plain": [
       "array([10, 20, 30])"
      ]
     },
     "execution_count": 16,
     "metadata": {},
     "output_type": "execute_result"
    }
   ],
   "source": [
    "extracted"
   ]
  }
 ],
 "metadata": {
  "kernelspec": {
   "display_name": "Python 3 (ipykernel)",
   "language": "python",
   "name": "python3"
  },
  "language_info": {
   "codemirror_mode": {
    "name": "ipython",
    "version": 3
   },
   "file_extension": ".py",
   "mimetype": "text/x-python",
   "name": "python",
   "nbconvert_exporter": "python",
   "pygments_lexer": "ipython3",
   "version": "3.11.13"
  }
 },
 "nbformat": 4,
 "nbformat_minor": 5
}
