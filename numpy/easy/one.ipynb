{
 "cells": [
  {
   "cell_type": "markdown",
   "id": "ed9ffa9a-dd97-41fb-bf05-9a244a9fda57",
   "metadata": {},
   "source": [
    "**Q1. Create a 1D NumPy array of integers from 0 to 9**"
   ]
  },
  {
   "cell_type": "code",
   "execution_count": 3,
   "id": "6a5f4082-01fd-47f2-8226-f73383a787e8",
   "metadata": {},
   "outputs": [],
   "source": [
    "import numpy as np"
   ]
  },
  {
   "cell_type": "code",
   "execution_count": 4,
   "id": "2d76239b-f183-49f7-8367-9757b4fb40a6",
   "metadata": {},
   "outputs": [],
   "source": [
    "arr = np.arange(0,10,1)"
   ]
  },
  {
   "cell_type": "code",
   "execution_count": 5,
   "id": "cd3baa80-374e-4ba9-9cdc-90bfda5a0254",
   "metadata": {},
   "outputs": [
    {
     "data": {
      "text/plain": [
       "array([0, 1, 2, 3, 4, 5, 6, 7, 8, 9])"
      ]
     },
     "execution_count": 5,
     "metadata": {},
     "output_type": "execute_result"
    }
   ],
   "source": [
    "arr"
   ]
  }
 ],
 "metadata": {
  "kernelspec": {
   "display_name": "Python 3 (ipykernel)",
   "language": "python",
   "name": "python3"
  },
  "language_info": {
   "codemirror_mode": {
    "name": "ipython",
    "version": 3
   },
   "file_extension": ".py",
   "mimetype": "text/x-python",
   "name": "python",
   "nbconvert_exporter": "python",
   "pygments_lexer": "ipython3",
   "version": "3.11.13"
  }
 },
 "nbformat": 4,
 "nbformat_minor": 5
}
