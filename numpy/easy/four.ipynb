{
 "cells": [
  {
   "cell_type": "markdown",
   "id": "7b50f29b-b545-4812-a878-afa2f9799486",
   "metadata": {},
   "source": [
    "**Q4. Create a 2D array of shape (2, 3) with all elements as 7.**"
   ]
  },
  {
   "cell_type": "code",
   "execution_count": 1,
   "id": "e0df447a-e995-4c66-985c-bf53b526eac7",
   "metadata": {},
   "outputs": [],
   "source": [
    "import numpy as np"
   ]
  },
  {
   "cell_type": "code",
   "execution_count": 2,
   "id": "cf2a1d9e-881a-473b-8f10-897a028f0e3c",
   "metadata": {},
   "outputs": [
    {
     "data": {
      "text/plain": [
       "array([[7, 7, 7],\n",
       "       [7, 7, 7]])"
      ]
     },
     "execution_count": 2,
     "metadata": {},
     "output_type": "execute_result"
    }
   ],
   "source": [
    "np.full((2,3),7)"
   ]
  }
 ],
 "metadata": {
  "kernelspec": {
   "display_name": "Python 3 (ipykernel)",
   "language": "python",
   "name": "python3"
  },
  "language_info": {
   "codemirror_mode": {
    "name": "ipython",
    "version": 3
   },
   "file_extension": ".py",
   "mimetype": "text/x-python",
   "name": "python",
   "nbconvert_exporter": "python",
   "pygments_lexer": "ipython3",
   "version": "3.11.13"
  }
 },
 "nbformat": 4,
 "nbformat_minor": 5
}
