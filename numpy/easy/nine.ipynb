{
 "cells": [
  {
   "cell_type": "markdown",
   "id": "091456d4-e354-4e5c-8146-1dfd3fd75bcb",
   "metadata": {},
   "source": [
    "**Q9. Find the mean of this array: np.array([1, 2, 3, 4, 5])**"
   ]
  },
  {
   "cell_type": "code",
   "execution_count": 1,
   "id": "9a0d3973-7d0c-4fae-b96d-19df25e7ff06",
   "metadata": {},
   "outputs": [],
   "source": [
    "import numpy as np"
   ]
  },
  {
   "cell_type": "code",
   "execution_count": 3,
   "id": "62145cb6-aec7-4b80-9549-8656bf6815aa",
   "metadata": {},
   "outputs": [
    {
     "name": "stdout",
     "output_type": "stream",
     "text": [
      "3.0\n"
     ]
    }
   ],
   "source": [
    "print(np.array([1, 2, 3, 4, 5]).mean())"
   ]
  }
 ],
 "metadata": {
  "kernelspec": {
   "display_name": "Python 3 (ipykernel)",
   "language": "python",
   "name": "python3"
  },
  "language_info": {
   "codemirror_mode": {
    "name": "ipython",
    "version": 3
   },
   "file_extension": ".py",
   "mimetype": "text/x-python",
   "name": "python",
   "nbconvert_exporter": "python",
   "pygments_lexer": "ipython3",
   "version": "3.11.13"
  }
 },
 "nbformat": 4,
 "nbformat_minor": 5
}
