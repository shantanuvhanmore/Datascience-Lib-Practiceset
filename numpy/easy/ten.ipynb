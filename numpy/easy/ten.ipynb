{
 "cells": [
  {
   "cell_type": "markdown",
   "id": "78edfb83-91c1-41fc-8a47-9571fb289f80",
   "metadata": {},
   "source": [
    "**Q10. Create a 3x3 matrix with values from 1 to 9 and find its transpose.**"
   ]
  },
  {
   "cell_type": "code",
   "execution_count": 1,
   "id": "89683acf-e8e0-486a-ac69-0f672b9309ec",
   "metadata": {},
   "outputs": [],
   "source": [
    "import numpy as np "
   ]
  },
  {
   "cell_type": "code",
   "execution_count": 6,
   "id": "a23a51e6-8cf9-4812-95cd-7e75523cd289",
   "metadata": {},
   "outputs": [],
   "source": [
    "arr=np.arange(1,10,1)"
   ]
  },
  {
   "cell_type": "code",
   "execution_count": 16,
   "id": "c5ee3ae7-f784-4f84-8007-e6aa935006b2",
   "metadata": {},
   "outputs": [
    {
     "data": {
      "text/plain": [
       "array([[1, 2, 3],\n",
       "       [4, 5, 6],\n",
       "       [7, 8, 9]])"
      ]
     },
     "execution_count": 16,
     "metadata": {},
     "output_type": "execute_result"
    }
   ],
   "source": [
    "matrix=arr.reshape(3,3)\n",
    "matrix"
   ]
  },
  {
   "cell_type": "code",
   "execution_count": 17,
   "id": "c8fc7959-de31-4b1f-b705-bed628f14b52",
   "metadata": {},
   "outputs": [
    {
     "data": {
      "text/plain": [
       "array([[1, 4, 7],\n",
       "       [2, 5, 8],\n",
       "       [3, 6, 9]])"
      ]
     },
     "execution_count": 17,
     "metadata": {},
     "output_type": "execute_result"
    }
   ],
   "source": [
    "transpose_matrix=matrix.T\n",
    "transpose_matrix"
   ]
  }
 ],
 "metadata": {
  "kernelspec": {
   "display_name": "Python 3 (ipykernel)",
   "language": "python",
   "name": "python3"
  },
  "language_info": {
   "codemirror_mode": {
    "name": "ipython",
    "version": 3
   },
   "file_extension": ".py",
   "mimetype": "text/x-python",
   "name": "python",
   "nbconvert_exporter": "python",
   "pygments_lexer": "ipython3",
   "version": "3.11.13"
  }
 },
 "nbformat": 4,
 "nbformat_minor": 5
}
