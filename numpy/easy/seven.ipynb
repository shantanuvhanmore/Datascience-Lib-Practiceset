{
 "cells": [
  {
   "cell_type": "markdown",
   "id": "c7eee139-88de-46cc-a746-e847edd7276c",
   "metadata": {},
   "source": [
    "**Q7. Create a NumPy array of 5 random numbers between 0 and 1.**"
   ]
  },
  {
   "cell_type": "code",
   "execution_count": 2,
   "id": "73046ed1-2d22-4aca-9a85-40c0198facad",
   "metadata": {},
   "outputs": [],
   "source": [
    "import numpy as np\n",
    "import random"
   ]
  },
  {
   "cell_type": "code",
   "execution_count": 5,
   "id": "0ccb327b-af4b-4656-92a7-4c78f05c1306",
   "metadata": {},
   "outputs": [
    {
     "data": {
      "text/plain": [
       "array([0.62598052, 0.28631395, 0.63085408, 0.1022387 , 0.20870649])"
      ]
     },
     "execution_count": 5,
     "metadata": {},
     "output_type": "execute_result"
    }
   ],
   "source": [
    "np.random.rand(5)"
   ]
  },
  {
   "cell_type": "code",
   "execution_count": null,
   "id": "4c63c440-66bd-4410-a2bb-cc081d9ba5b3",
   "metadata": {},
   "outputs": [],
   "source": []
  }
 ],
 "metadata": {
  "kernelspec": {
   "display_name": "Python 3 (ipykernel)",
   "language": "python",
   "name": "python3"
  },
  "language_info": {
   "codemirror_mode": {
    "name": "ipython",
    "version": 3
   },
   "file_extension": ".py",
   "mimetype": "text/x-python",
   "name": "python",
   "nbconvert_exporter": "python",
   "pygments_lexer": "ipython3",
   "version": "3.11.13"
  }
 },
 "nbformat": 4,
 "nbformat_minor": 5
}
