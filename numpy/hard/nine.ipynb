{
 "cells": [
  {
   "cell_type": "markdown",
   "id": "758ab523-938d-4d32-bc16-4da760b45c4f",
   "metadata": {},
   "source": [
    "## 📦 Q9. Implement K-Means clustering from scratch using only NumPy for a 2D dataset. No plotting or external libraries allowed.\n",
    "Goal: Assign each data point to the nearest centroid and iteratively update centroids until convergence.\n",
    "**np.random.seed(42)\n",
    "cluster1 = np.random.randn(100, 2) + [5, 5]\n",
    "cluster2 = np.random.randn(100, 2) + [0, 0]\n",
    "data = np.vstack((cluster1, cluster2))**"
   ]
  },
  {
   "cell_type": "code",
   "execution_count": 2,
   "id": "e5698d71-620a-4d8d-aeb9-59b7bb39c3a6",
   "metadata": {},
   "outputs": [],
   "source": [
    "import numpy as np"
   ]
  },
  {
   "cell_type": "code",
   "execution_count": 3,
   "id": "4edd5bde-3ca3-49d6-a0d0-cfef9f56be19",
   "metadata": {},
   "outputs": [],
   "source": [
    "np.random.seed(42)\n",
    "cluster1 = np.random.randn(100, 2) + [5, 5]\n",
    "cluster2 = np.random.randn(100, 2) + [0, 0]\n",
    "data = np.vstack((cluster1, cluster2))"
   ]
  },
  {
   "cell_type": "code",
   "execution_count": 4,
   "id": "3717f313-1086-4011-a7c2-244eb58b05ff",
   "metadata": {},
   "outputs": [],
   "source": [
    "def initialize_centroids(data, k):\n",
    "    indices = np.random.choice(data.shape[0], size=k, replace=False)\n",
    "    return data[indices]"
   ]
  },
  {
   "cell_type": "code",
   "execution_count": 5,
   "id": "dd5aa0ea-03a9-4b34-9702-973228319d1b",
   "metadata": {},
   "outputs": [],
   "source": [
    "def assign_clusters(data, centroids):\n",
    "    distances = np.linalg.norm(data[:, np.newaxis] - centroids, axis=2)\n",
    "    return np.argmin(distances, axis=1)"
   ]
  },
  {
   "cell_type": "code",
   "execution_count": 6,
   "id": "26bc1efa-913e-4c05-8e15-6a92e89a1aff",
   "metadata": {},
   "outputs": [],
   "source": [
    "def update_centroids(data, labels, k):\n",
    "    return np.array([data[labels == i].mean(axis=0) for i in range(k)])"
   ]
  },
  {
   "cell_type": "code",
   "execution_count": 7,
   "id": "1a7d14ce-c426-4a9b-8b4f-92ebf2daff2f",
   "metadata": {},
   "outputs": [],
   "source": [
    "def k_means_numpy(data, k=2, max_iters=100, tol=1e-4):\n",
    "    centroids = initialize_centroids(data, k)\n",
    "    for _ in range(max_iters):\n",
    "        old_centroids = centroids.copy()\n",
    "        labels = assign_clusters(data, centroids)\n",
    "        centroids = update_centroids(data, labels, k)\n",
    "        if np.allclose(old_centroids, centroids, atol=tol):\n",
    "            break\n",
    "    return centroids, labels\n"
   ]
  },
  {
   "cell_type": "code",
   "execution_count": 8,
   "id": "f620fde1-49a3-41ac-9579-bfbb7af9c31c",
   "metadata": {},
   "outputs": [],
   "source": [
    "final_centroids, cluster_labels = k_means_numpy(data, k=2)"
   ]
  },
  {
   "cell_type": "code",
   "execution_count": 9,
   "id": "d97740b5-97f8-48f3-a721-7b57812fe112",
   "metadata": {},
   "outputs": [
    {
     "name": "stdout",
     "output_type": "stream",
     "text": [
      "Final Centroids:\n",
      " [[0.12824872 0.04348765]\n",
      " [4.88443575 5.03402232]]\n",
      "\n",
      "Cluster Labels (first 10):\n",
      " [1 1 1 1 1 1 1 1 1 1]\n"
     ]
    }
   ],
   "source": [
    "print(\"Final Centroids:\\n\", final_centroids)\n",
    "print(\"\\nCluster Labels (first 10):\\n\", cluster_labels[:10])"
   ]
  },
  {
   "cell_type": "code",
   "execution_count": null,
   "id": "a476ee82-6b78-4ccf-973d-51ca65a8d0a8",
   "metadata": {},
   "outputs": [],
   "source": []
  }
 ],
 "metadata": {
  "kernelspec": {
   "display_name": "Python 3 (ipykernel)",
   "language": "python",
   "name": "python3"
  },
  "language_info": {
   "codemirror_mode": {
    "name": "ipython",
    "version": 3
   },
   "file_extension": ".py",
   "mimetype": "text/x-python",
   "name": "python",
   "nbconvert_exporter": "python",
   "pygments_lexer": "ipython3",
   "version": "3.11.13"
  }
 },
 "nbformat": 4,
 "nbformat_minor": 5
}
