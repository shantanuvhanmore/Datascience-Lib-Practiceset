{
 "cells": [
  {
   "cell_type": "markdown",
   "id": "95e5a9df-98a0-4c1f-b21d-4a0c6cad9232",
   "metadata": {},
   "source": [
    "### 🔢 Q1. Implement PCA (Principal Component Analysis) manually using NumPy for a 2D dataset."
   ]
  },
  {
   "cell_type": "code",
   "execution_count": 2,
   "id": "80f64222-639d-4c40-ac39-0c1f768f82c7",
   "metadata": {},
   "outputs": [],
   "source": [
    "import numpy as np\n",
    "\n",
    "data = np.array([\n",
    "    [2.5, 2.4],\n",
    "    [0.5, 0.7],\n",
    "    [2.2, 2.9],\n",
    "    [1.9, 2.2],\n",
    "    [3.1, 3.0],\n",
    "    [2.3, 2.7],\n",
    "    [2, 1.6],\n",
    "    [1, 1.1],\n",
    "    [1.5, 1.6],\n",
    "    [1.1, 0.9]\n",
    "])"
   ]
  },
  {
   "cell_type": "code",
   "execution_count": 4,
   "id": "34b981df-65a0-4b2b-9ba1-75b80f817f21",
   "metadata": {},
   "outputs": [
    {
     "name": "stdout",
     "output_type": "stream",
     "text": [
      "Original data:\n",
      "[[2.5 2.4]\n",
      " [0.5 0.7]\n",
      " [2.2 2.9]\n",
      " [1.9 2.2]\n",
      " [3.1 3. ]\n",
      " [2.3 2.7]\n",
      " [2.  1.6]\n",
      " [1.  1.1]\n",
      " [1.5 1.6]\n",
      " [1.1 0.9]]\n",
      "PCA transformed:\n",
      "[[-0.82797019 -0.17511531]\n",
      " [ 1.77758033  0.14285723]\n",
      " [-0.99219749  0.38437499]\n",
      " [-0.27421042  0.13041721]\n",
      " [-1.67580142 -0.20949846]\n",
      " [-0.9129491   0.17528244]\n",
      " [ 0.09910944 -0.3498247 ]\n",
      " [ 1.14457216  0.04641726]\n",
      " [ 0.43804614  0.01776463]\n",
      " [ 1.22382056 -0.16267529]]\n",
      "Variance explained: [0.96318131 0.03681869]\n"
     ]
    }
   ],
   "source": [
    "mean = np.mean(data, axis=0)\n",
    "centered = data - mean\n",
    "\n",
    "cov_matrix = np.cov(centered.T)\n",
    "\n",
    "eigenvals, eigenvecs = np.linalg.eig(cov_matrix)\n",
    "\n",
    "idx = np.argsort(eigenvals)[::-1]\n",
    "eigenvals = eigenvals[idx]\n",
    "eigenvecs = eigenvecs[:, idx]\n",
    "\n",
    "pca_data = centered @ eigenvecs\n",
    "\n",
    "print(f\"Original data:\\n{data}\")\n",
    "print(f\"PCA transformed:\\n{pca_data}\")\n",
    "print(f\"Variance explained: {eigenvals / np.sum(eigenvals)}\")"
   ]
  },
  {
   "cell_type": "code",
   "execution_count": null,
   "id": "d653a16a-5157-4e99-8b9a-1ab625e92a2b",
   "metadata": {},
   "outputs": [],
   "source": []
  }
 ],
 "metadata": {
  "kernelspec": {
   "display_name": "Python 3 (ipykernel)",
   "language": "python",
   "name": "python3"
  },
  "language_info": {
   "codemirror_mode": {
    "name": "ipython",
    "version": 3
   },
   "file_extension": ".py",
   "mimetype": "text/x-python",
   "name": "python",
   "nbconvert_exporter": "python",
   "pygments_lexer": "ipython3",
   "version": "3.11.13"
  }
 },
 "nbformat": 4,
 "nbformat_minor": 5
}
