{
 "cells": [
  {
   "cell_type": "markdown",
   "id": "5678ad49-a283-4f90-948e-38be5ce4dc1b",
   "metadata": {},
   "source": [
    "\n",
    "### 🧠 Q7. Simulate 1000 random coin tosses and calculate the probability distribution of heads and tails."
   ]
  },
  {
   "cell_type": "code",
   "execution_count": 1,
   "id": "25444640-142d-4f3f-94b5-98b85a3ea3d1",
   "metadata": {},
   "outputs": [],
   "source": [
    "import numpy as np\n",
    "\n",
    "# 0: Tails, 1: Heads\n",
    "tosses = np.random.choice([0, 1], size=1000)\n"
   ]
  },
  {
   "cell_type": "code",
   "execution_count": 2,
   "id": "4a7ce518-9560-4932-80c6-7e2e4ac7c9c0",
   "metadata": {},
   "outputs": [
    {
     "name": "stdout",
     "output_type": "stream",
     "text": [
      "Counts: {np.int64(0): np.int64(474), np.int64(1): np.int64(526)}\n"
     ]
    }
   ],
   "source": [
    "unique, counts = np.unique(tosses, return_counts=True)\n",
    "distribution = dict(zip(unique, counts))\n",
    "\n",
    "print(\"Counts:\", distribution)\n"
   ]
  },
  {
   "cell_type": "code",
   "execution_count": 3,
   "id": "bfec2afd-f9af-4a2c-83f0-26afdb6af7ee",
   "metadata": {},
   "outputs": [
    {
     "name": "stdout",
     "output_type": "stream",
     "text": [
      "Probability Distribution:\n",
      "Tails: 0.4740\n",
      "Heads: 0.5260\n"
     ]
    }
   ],
   "source": [
    "total_tosses = tosses.size\n",
    "probabilities = { \"Tails\": distribution.get(0, 0)/total_tosses,\n",
    "                  \"Heads\": distribution.get(1, 0)/total_tosses }\n",
    "\n",
    "print(\"Probability Distribution:\")\n",
    "for outcome, prob in probabilities.items():\n",
    "    print(f\"{outcome}: {prob:.4f}\")\n"
   ]
  }
 ],
 "metadata": {
  "kernelspec": {
   "display_name": "Python 3 (ipykernel)",
   "language": "python",
   "name": "python3"
  },
  "language_info": {
   "codemirror_mode": {
    "name": "ipython",
    "version": 3
   },
   "file_extension": ".py",
   "mimetype": "text/x-python",
   "name": "python",
   "nbconvert_exporter": "python",
   "pygments_lexer": "ipython3",
   "version": "3.11.13"
  }
 },
 "nbformat": 4,
 "nbformat_minor": 5
}
