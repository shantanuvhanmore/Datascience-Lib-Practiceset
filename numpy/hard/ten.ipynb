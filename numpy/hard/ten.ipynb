{
 "cells": [
  {
   "cell_type": "markdown",
   "id": "1fb8d824-e61b-428b-b0c4-4037951ba4d8",
   "metadata": {},
   "source": [
    "## 🧮 Q10. Write a NumPy-only function to compute the determinant of a matrix using LU decomposition (without using np.linalg.det).\n",
    "Goal: Implement determinant calculation manually using matrix factorization.\n",
    "**np.random.seed(0)**\n",
    "**A = np.random.randint(1, 10, size=(4, 4)).astype(float)**"
   ]
  },
  {
   "cell_type": "code",
   "execution_count": 2,
   "id": "09db99c5-2973-4339-8067-31700682b654",
   "metadata": {},
   "outputs": [],
   "source": [
    "import numpy as np\n",
    "\n",
    "def pearson_corr_numpy(X):\n",
    "    \"\"\"\n",
    "    Compute Pearson Correlation Coefficient Matrix using only NumPy.\n",
    "    \n",
    "    Args:\n",
    "        X (ndarray): shape (n_samples, n_features)\n",
    "    \n",
    "    Returns:\n",
    "        corr_matrix (ndarray): shape (n_features, n_features)\n",
    "    \"\"\"\n",
    "    # Center the data (subtract mean column-wise)\n",
    "    X_centered = X - X.mean(axis=0)\n",
    "    \n",
    "    # Compute covariance matrix\n",
    "    cov_matrix = X_centered.T @ X_centered / (X.shape[0] - 1)\n",
    "    \n",
    "    # Standard deviations\n",
    "    std_dev = np.sqrt(np.diag(cov_matrix))\n",
    "    \n",
    "    # Outer product of std_dev to get denominator matrix\n",
    "    denom = np.outer(std_dev, std_dev)\n",
    "    \n",
    "    # Avoid division by zero\n",
    "    denom[denom == 0] = 1e-10\n",
    "    \n",
    "    # Pearson correlation = covariance / (std_x * std_y)\n",
    "    corr_matrix = cov_matrix / denom\n",
    "    return corr_matrix\n"
   ]
  },
  {
   "cell_type": "code",
   "execution_count": 3,
   "id": "2c3e5fd7-4b0c-44c0-98c5-e5a64fad50dc",
   "metadata": {},
   "outputs": [
    {
     "name": "stdout",
     "output_type": "stream",
     "text": [
      "Pearson Correlation Matrix:\n",
      " [[ 1.   -0.02  0.22  0.03  0.01]\n",
      " [-0.02  1.    0.03  0.16  0.08]\n",
      " [ 0.22  0.03  1.    0.06  0.15]\n",
      " [ 0.03  0.16  0.06  1.    0.05]\n",
      " [ 0.01  0.08  0.15  0.05  1.  ]]\n"
     ]
    }
   ],
   "source": [
    "np.random.seed(0)\n",
    "X = np.random.rand(100, 5)  # 100 samples, 5 features\n",
    "\n",
    "corr_matrix = pearson_corr_numpy(X)\n",
    "print(\"Pearson Correlation Matrix:\\n\", np.round(corr_matrix, 2))\n"
   ]
  },
  {
   "cell_type": "code",
   "execution_count": null,
   "id": "596738a0-5454-4fb6-b8f4-d084fb3b4b02",
   "metadata": {},
   "outputs": [],
   "source": []
  }
 ],
 "metadata": {
  "kernelspec": {
   "display_name": "Python 3 (ipykernel)",
   "language": "python",
   "name": "python3"
  },
  "language_info": {
   "codemirror_mode": {
    "name": "ipython",
    "version": 3
   },
   "file_extension": ".py",
   "mimetype": "text/x-python",
   "name": "python",
   "nbconvert_exporter": "python",
   "pygments_lexer": "ipython3",
   "version": "3.11.13"
  }
 },
 "nbformat": 4,
 "nbformat_minor": 5
}
