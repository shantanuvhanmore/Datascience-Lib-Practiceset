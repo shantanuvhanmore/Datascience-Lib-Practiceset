{
 "cells": [
  {
   "cell_type": "markdown",
   "id": "ca912a16-b5b9-48f5-8a32-e559af161f53",
   "metadata": {},
   "source": [
    "### 🕸️ Q5. Create a correlation matrix manually using only NumPy functions."
   ]
  },
  {
   "cell_type": "code",
   "execution_count": 1,
   "id": "4dc1c280-89db-4091-841c-84c5f8830764",
   "metadata": {},
   "outputs": [],
   "source": [
    "import numpy as np\n",
    "\n",
    "data = np.random.rand(5, 5)"
   ]
  },
  {
   "cell_type": "code",
   "execution_count": 2,
   "id": "ce5bbb63-ab8a-4195-b32c-710b06711546",
   "metadata": {},
   "outputs": [],
   "source": [
    "def correlation_matrix_manual(data):\n",
    "   n_features = data.shape[1]\n",
    "   corr_matrix = np.zeros((n_features, n_features))\n",
    "   \n",
    "   # Calculate correlation for each pair of columns\n",
    "   for i in range(n_features):\n",
    "       for j in range(n_features):\n",
    "           if i == j:\n",
    "               corr_matrix[i, j] = 1.0  # Perfect correlation with itself\n",
    "           else:\n",
    "               # Get columns\n",
    "               x = data[:, i]\n",
    "               y = data[:, j]\n",
    "               \n",
    "               # Calculate means\n",
    "               mean_x = np.mean(x)\n",
    "               mean_y = np.mean(y)\n",
    "               \n",
    "               # Calculate correlation coefficient manually\n",
    "               numerator = np.sum((x - mean_x) * (y - mean_y))\n",
    "               denominator = np.sqrt(np.sum((x - mean_x)**2) * np.sum((y - mean_y)**2))\n",
    "               \n",
    "               corr_matrix[i, j] = numerator / denominator\n",
    "   \n",
    "   return corr_matrix"
   ]
  },
  {
   "cell_type": "code",
   "execution_count": 3,
   "id": "3f6e6c34-4ad2-4a6d-8cf9-d38fd1f8a5b4",
   "metadata": {},
   "outputs": [],
   "source": [
    "\n",
    "manual_corr = correlation_matrix_manual(data)\n"
   ]
  },
  {
   "cell_type": "code",
   "execution_count": 4,
   "id": "2ddd611a-13b5-4eae-afe2-70ce79f2d040",
   "metadata": {},
   "outputs": [
    {
     "name": "stdout",
     "output_type": "stream",
     "text": [
      "Manual correlation matrix:\n",
      "[[ 1.         -0.15585892  0.26468008 -0.11706808 -0.24734087]\n",
      " [-0.15585892  1.         -0.73774906  0.58034615  0.956412  ]\n",
      " [ 0.26468008 -0.73774906  1.         -0.96520654 -0.84763675]\n",
      " [-0.11706808  0.58034615 -0.96520654  1.          0.69887502]\n",
      " [-0.24734087  0.956412   -0.84763675  0.69887502  1.        ]]\n"
     ]
    }
   ],
   "source": [
    "print(\"Manual correlation matrix:\")\n",
    "print(manual_corr)"
   ]
  },
  {
   "cell_type": "code",
   "execution_count": 5,
   "id": "aa01a0b0-c743-4e86-af3e-b11e77760cac",
   "metadata": {},
   "outputs": [
    {
     "name": "stdout",
     "output_type": "stream",
     "text": [
      "\n",
      "NumPy corrcoef result:\n",
      "[[ 1.         -0.15585892  0.26468008 -0.11706808 -0.24734087]\n",
      " [-0.15585892  1.         -0.73774906  0.58034615  0.956412  ]\n",
      " [ 0.26468008 -0.73774906  1.         -0.96520654 -0.84763675]\n",
      " [-0.11706808  0.58034615 -0.96520654  1.          0.69887502]\n",
      " [-0.24734087  0.956412   -0.84763675  0.69887502  1.        ]]\n"
     ]
    }
   ],
   "source": [
    "print(\"\\nNumPy corrcoef result:\")\n",
    "print(np.corrcoef(data.T))"
   ]
  }
 ],
 "metadata": {
  "kernelspec": {
   "display_name": "Python 3 (ipykernel)",
   "language": "python",
   "name": "python3"
  },
  "language_info": {
   "codemirror_mode": {
    "name": "ipython",
    "version": 3
   },
   "file_extension": ".py",
   "mimetype": "text/x-python",
   "name": "python",
   "nbconvert_exporter": "python",
   "pygments_lexer": "ipython3",
   "version": "3.11.13"
  }
 },
 "nbformat": 4,
 "nbformat_minor": 5
}
