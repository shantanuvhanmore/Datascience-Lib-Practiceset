{
 "cells": [
  {
   "cell_type": "markdown",
   "id": "714e2bb1-e4dc-4186-922d-336a244c9e0f",
   "metadata": {},
   "source": [
    "### 🧩 Q6. Find the eigenvalues and eigenvectors of a symmetric matrix. Then verify the decomposition."
   ]
  },
  {
   "cell_type": "code",
   "execution_count": 1,
   "id": "40cd1bc2-a0ec-48ed-a00a-78daa37c90b7",
   "metadata": {},
   "outputs": [],
   "source": [
    "import numpy as np\n",
    "\n",
    "matrix = np.array([[4, -2], \n",
    "                   [-2, 1]])\n"
   ]
  },
  {
   "cell_type": "code",
   "execution_count": 2,
   "id": "b9928264-8732-46aa-addf-a5f31c3c6153",
   "metadata": {},
   "outputs": [
    {
     "name": "stdout",
     "output_type": "stream",
     "text": [
      "Eigenvalues:\n",
      " [5. 0.]\n",
      "\n",
      "Eigenvectors:\n",
      " [[ 0.89442719  0.4472136 ]\n",
      " [-0.4472136   0.89442719]]\n"
     ]
    }
   ],
   "source": [
    "eigenvalues, eigenvectors = np.linalg.eig(matrix)\n",
    "\n",
    "print(\"Eigenvalues:\\n\", eigenvalues)\n",
    "print(\"\\nEigenvectors:\\n\", eigenvectors)\n"
   ]
  },
  {
   "cell_type": "code",
   "execution_count": 3,
   "id": "659b93a0-9ecd-4124-90ab-228435012730",
   "metadata": {},
   "outputs": [
    {
     "name": "stdout",
     "output_type": "stream",
     "text": [
      "Reconstructed matrix:\n",
      " [[ 4. -2.]\n",
      " [-2.  1.]]\n"
     ]
    }
   ],
   "source": [
    "Lambda = np.diag(eigenvalues)\n",
    "\n",
    "# Reconstruct the matrix\n",
    "reconstructed = eigenvectors @ Lambda @ eigenvectors.T\n",
    "\n",
    "print(\"Reconstructed matrix:\\n\", reconstructed)\n"
   ]
  }
 ],
 "metadata": {
  "kernelspec": {
   "display_name": "Python 3 (ipykernel)",
   "language": "python",
   "name": "python3"
  },
  "language_info": {
   "codemirror_mode": {
    "name": "ipython",
    "version": 3
   },
   "file_extension": ".py",
   "mimetype": "text/x-python",
   "name": "python",
   "nbconvert_exporter": "python",
   "pygments_lexer": "ipython3",
   "version": "3.11.13"
  }
 },
 "nbformat": 4,
 "nbformat_minor": 5
}
