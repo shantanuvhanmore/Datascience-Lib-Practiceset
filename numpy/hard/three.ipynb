{
 "cells": [
  {
   "cell_type": "markdown",
   "id": "9c09f999-dc9e-4320-8bd8-37db2ed5253e",
   "metadata": {},
   "source": [
    "### 📈 Q3. Given a large 2D NumPy array, normalize it row-wise and column-wise without using any external library."
   ]
  },
  {
   "cell_type": "code",
   "execution_count": 12,
   "id": "b6c8bfa5-78eb-4d4c-9372-f41c7c22dff1",
   "metadata": {},
   "outputs": [],
   "source": [
    "import numpy as np\n",
    "\n",
    "data = np.random.randint(1, 100, (10, 5))"
   ]
  },
  {
   "cell_type": "code",
   "execution_count": 13,
   "id": "378529e5-80f9-41b6-8508-f99d7a241d95",
   "metadata": {},
   "outputs": [],
   "source": [
    "row_normalized = data / data.sum(axis=1, keepdims=True)"
   ]
  },
  {
   "cell_type": "code",
   "execution_count": 14,
   "id": "bc8709e8-95ae-4323-8490-453a534fc08a",
   "metadata": {},
   "outputs": [],
   "source": [
    "col_normalized = data / data.sum(axis=0, keepdims=True)"
   ]
  },
  {
   "cell_type": "code",
   "execution_count": 15,
   "id": "3f7a034f-89e4-457a-a6ac-4741672c3487",
   "metadata": {},
   "outputs": [
    {
     "name": "stdout",
     "output_type": "stream",
     "text": [
      "Original data shape: (10, 5)\n",
      "Row normalized sum per row: [1. 1. 1. 1. 1. 1. 1. 1. 1. 1.]\n",
      "Column normalized sum per column: [1. 1. 1. 1. 1.]\n"
     ]
    }
   ],
   "source": [
    "\n",
    "print(\"Original data shape:\", data.shape)\n",
    "print(\"Row normalized sum per row:\", row_normalized.sum(axis=1))\n",
    "print(\"Column normalized sum per column:\", col_normalized.sum(axis=0))"
   ]
  }
 ],
 "metadata": {
  "kernelspec": {
   "display_name": "Python 3 (ipykernel)",
   "language": "python",
   "name": "python3"
  },
  "language_info": {
   "codemirror_mode": {
    "name": "ipython",
    "version": 3
   },
   "file_extension": ".py",
   "mimetype": "text/x-python",
   "name": "python",
   "nbconvert_exporter": "python",
   "pygments_lexer": "ipython3",
   "version": "3.11.13"
  }
 },
 "nbformat": 4,
 "nbformat_minor": 5
}
