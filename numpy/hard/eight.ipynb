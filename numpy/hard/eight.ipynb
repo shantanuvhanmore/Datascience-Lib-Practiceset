{
 "cells": [
  {
   "cell_type": "markdown",
   "id": "b13b5c5f-026b-45be-b192-8b93acf00042",
   "metadata": {},
   "source": [
    "### 🎯 Q8. Given an array of shape (1000, 1000), write a function to compute its inverse using NumPy and validate it."
   ]
  },
  {
   "cell_type": "code",
   "execution_count": 1,
   "id": "11a291a6-9fc5-4531-87dc-303ce3774952",
   "metadata": {},
   "outputs": [],
   "source": [
    "import numpy as np\n",
    "\n",
    "np.random.seed(0)\n",
    "matrix = np.random.rand(1000, 1000)\n",
    "matrix = matrix + matrix.T                 # Make it symmetric\n",
    "matrix += 1000 * np.eye(1000)              # Make it strongly diagonally dominant (and invertible)\n"
   ]
  },
  {
   "cell_type": "code",
   "execution_count": 2,
   "id": "e110080c-0a25-4f90-b62c-9f9801d5f33b",
   "metadata": {},
   "outputs": [],
   "source": [
    "def compute_inverse(mat):\n",
    "    return np.linalg.inv(mat)\n"
   ]
  },
  {
   "cell_type": "code",
   "execution_count": 3,
   "id": "04040c42-aa01-4646-84cc-a623783777b0",
   "metadata": {},
   "outputs": [
    {
     "name": "stdout",
     "output_type": "stream",
     "text": [
      "Is valid inverse: True\n"
     ]
    }
   ],
   "source": [
    "inv_matrix = compute_inverse(matrix)\n",
    "\n",
    "# Identity check: A * A_inv ≈ I\n",
    "identity = np.dot(matrix, inv_matrix)\n",
    "\n",
    "# Check how close it is to the actual identity matrix\n",
    "is_close = np.allclose(identity, np.eye(matrix.shape[0]), atol=1e-5)\n",
    "print(\"Is valid inverse:\", is_close)\n"
   ]
  },
  {
   "cell_type": "code",
   "execution_count": null,
   "id": "df82722c-1b87-4e7e-8dcb-1154168bfa5f",
   "metadata": {},
   "outputs": [],
   "source": []
  }
 ],
 "metadata": {
  "kernelspec": {
   "display_name": "Python 3 (ipykernel)",
   "language": "python",
   "name": "python3"
  },
  "language_info": {
   "codemirror_mode": {
    "name": "ipython",
    "version": 3
   },
   "file_extension": ".py",
   "mimetype": "text/x-python",
   "name": "python",
   "nbconvert_exporter": "python",
   "pygments_lexer": "ipython3",
   "version": "3.11.13"
  }
 },
 "nbformat": 4,
 "nbformat_minor": 5
}
