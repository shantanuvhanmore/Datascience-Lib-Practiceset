{
 "cells": [
  {
   "cell_type": "markdown",
   "id": "5186714d-cb46-4a40-9119-cea98a1bb4a6",
   "metadata": {},
   "source": [
    "### 🧬 Q2. Build a function to compute the determinant of an n x n matrix recursively using NumPy.\n",
    "\n",
    "Don’t use np.linalg.det().\n",
    "\n",
    "Use only slicing and recursion."
   ]
  },
  {
   "cell_type": "code",
   "execution_count": 8,
   "id": "48fba993-8d4c-4858-ae8e-3eb3ab8e7bf9",
   "metadata": {},
   "outputs": [],
   "source": [
    "def det_pure_slicing(matrix):\n",
    "    matrix = np.array(matrix, dtype=float)\n",
    "    n = matrix.shape[0]\n",
    "    \n",
    "    if n == 1:\n",
    "        return matrix[0, 0]\n",
    "    if n == 2:\n",
    "        return matrix[0, 0] * matrix[1, 1] - matrix[0, 1] * matrix[1, 0]\n",
    "    \n",
    "    det = 0\n",
    "    for i in range(n):\n",
    "        # Create minor using pure slicing\n",
    "        rows = matrix[1:, :]  # Remove first row\n",
    "        minor = np.hstack([rows[:, :i], rows[:, i+1:]])  # Remove column i\n",
    "        \n",
    "        cofactor = ((-1) ** i) * det_pure_slicing(minor)\n",
    "        det += matrix[0, i] * cofactor\n",
    "    \n",
    "    return det"
   ]
  },
  {
   "cell_type": "code",
   "execution_count": 10,
   "id": "498080b0-f7f7-4601-8926-7956a7673b4b",
   "metadata": {},
   "outputs": [
    {
     "name": "stdout",
     "output_type": "stream",
     "text": [
      "Determinant: -3.0\n",
      "NumPy result: -2.9999999999999982\n"
     ]
    }
   ],
   "source": [
    "matrix = np.array([[1, 2, 3], \n",
    "                  [4, 5, 6], \n",
    "                  [7, 8, 10]])\n",
    "\n",
    "result = det_pure_slicing(matrix)\n",
    "print(f\"Determinant: {result}\")\n",
    "\n",
    "# Verify with numpy (for checking)\n",
    "print(f\"NumPy result: {np.linalg.det(matrix)}\")"
   ]
  }
 ],
 "metadata": {
  "kernelspec": {
   "display_name": "Python 3 (ipykernel)",
   "language": "python",
   "name": "python3"
  },
  "language_info": {
   "codemirror_mode": {
    "name": "ipython",
    "version": 3
   },
   "file_extension": ".py",
   "mimetype": "text/x-python",
   "name": "python",
   "nbconvert_exporter": "python",
   "pygments_lexer": "ipython3",
   "version": "3.11.13"
  }
 },
 "nbformat": 4,
 "nbformat_minor": 5
}
