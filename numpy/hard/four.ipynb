{
 "cells": [
  {
   "cell_type": "markdown",
   "id": "d98c51de-f792-4c12-ae76-dcd1170b5f04",
   "metadata": {},
   "source": [
    "### 🧬 Q4. Generate a 3D NumPy array (5x4x3), flatten it to 2D, and then reconstruct it back without using reshape()."
   ]
  },
  {
   "cell_type": "code",
   "execution_count": 1,
   "id": "b779bac5-ab42-4ef3-b312-6f5f0aaf6526",
   "metadata": {},
   "outputs": [
    {
     "name": "stdout",
     "output_type": "stream",
     "text": [
      "Original shape: (5, 4, 3)\n"
     ]
    }
   ],
   "source": [
    "import numpy as np\n",
    "\n",
    "tensor = np.random.randint(0, 100, (5, 4, 3))\n",
    "print(\"Original shape:\", tensor.shape)\n"
   ]
  },
  {
   "cell_type": "code",
   "execution_count": 5,
   "id": "b9d2aa3b-36fd-4f94-ad56-86a9a374135e",
   "metadata": {},
   "outputs": [],
   "source": [
    "flattened_1d = tensor.flatten()\n",
    "flattened_2d = np.array([flattened_1d[i:i+3] for i in range(0, len(flattened_1d), 3)])\n",
    "reconstructed = np.zeros(tensor.shape)"
   ]
  },
  {
   "cell_type": "code",
   "execution_count": 6,
   "id": "6ab4b96a-ccfa-4214-bb90-d46d92571d0c",
   "metadata": {},
   "outputs": [],
   "source": [
    "reconstructed2 = np.zeros((5, 4, 3))\n",
    "idx = 0\n",
    "for i in range(5):\n",
    "   for j in range(4):\n",
    "       for k in range(3):\n",
    "           reconstructed2[i, j, k] = flattened_2d[idx, k]\n",
    "       idx += 1"
   ]
  },
  {
   "cell_type": "code",
   "execution_count": 7,
   "id": "542d2436-b8ff-4d96-a538-bb56e37d74fe",
   "metadata": {},
   "outputs": [
    {
     "name": "stdout",
     "output_type": "stream",
     "text": [
      "Flattened 2D shape: (20, 3)\n",
      "Reconstructed shape: (5, 4, 3)\n",
      "Arrays match: False\n"
     ]
    }
   ],
   "source": [
    "print(\"Flattened 2D shape:\", flattened_2d.shape)\n",
    "print(\"Reconstructed shape:\", reconstructed.shape)\n",
    "print(\"Arrays match:\", np.array_equal(tensor, reconstructed))"
   ]
  },
  {
   "cell_type": "code",
   "execution_count": null,
   "id": "2640c809-fa53-45b5-8760-953b1816e2d2",
   "metadata": {},
   "outputs": [],
   "source": []
  }
 ],
 "metadata": {
  "kernelspec": {
   "display_name": "Python 3 (ipykernel)",
   "language": "python",
   "name": "python3"
  },
  "language_info": {
   "codemirror_mode": {
    "name": "ipython",
    "version": 3
   },
   "file_extension": ".py",
   "mimetype": "text/x-python",
   "name": "python",
   "nbconvert_exporter": "python",
   "pygments_lexer": "ipython3",
   "version": "3.11.13"
  }
 },
 "nbformat": 4,
 "nbformat_minor": 5
}
