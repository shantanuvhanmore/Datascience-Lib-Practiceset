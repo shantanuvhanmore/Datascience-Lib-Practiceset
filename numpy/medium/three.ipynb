{
 "cells": [
  {
   "cell_type": "markdown",
   "id": "6ec46ca5-bba8-4646-9628-0b97c3f0163d",
   "metadata": {},
   "source": [
    "### 🔸 Q3. Replace all odd numbers in a NumPy array with -1  \n",
    "Input: `[1, 2, 3, 4, 5]`  \n",
    "Expected Output: `[-1, 2, -1, 4, -1]`"
   ]
  },
  {
   "cell_type": "code",
   "execution_count": 2,
   "id": "0bd1b0ad-c20b-4b74-8e28-79f5426f2841",
   "metadata": {},
   "outputs": [],
   "source": [
    "import numpy as np"
   ]
  },
  {
   "cell_type": "code",
   "execution_count": 3,
   "id": "e137eebe-42f8-4d30-8122-1319ee9f7e28",
   "metadata": {},
   "outputs": [],
   "source": [
    "arr= np.array([1, 2, 3, 4, 5])"
   ]
  },
  {
   "cell_type": "code",
   "execution_count": 6,
   "id": "c022ac80-7ba4-4a9c-8f48-f686eeada558",
   "metadata": {},
   "outputs": [],
   "source": [
    "arr[arr%2==1]=-1"
   ]
  },
  {
   "cell_type": "code",
   "execution_count": 7,
   "id": "8c1ef8b1-ebca-4af5-b770-d91ca86d4450",
   "metadata": {},
   "outputs": [
    {
     "data": {
      "text/plain": [
       "array([-1,  2, -1,  4, -1])"
      ]
     },
     "execution_count": 7,
     "metadata": {},
     "output_type": "execute_result"
    }
   ],
   "source": [
    "arr"
   ]
  },
  {
   "cell_type": "code",
   "execution_count": null,
   "id": "dfd44d2a-f610-4380-837f-2de5b29ecdff",
   "metadata": {},
   "outputs": [],
   "source": []
  }
 ],
 "metadata": {
  "kernelspec": {
   "display_name": "Python 3 (ipykernel)",
   "language": "python",
   "name": "python3"
  },
  "language_info": {
   "codemirror_mode": {
    "name": "ipython",
    "version": 3
   },
   "file_extension": ".py",
   "mimetype": "text/x-python",
   "name": "python",
   "nbconvert_exporter": "python",
   "pygments_lexer": "ipython3",
   "version": "3.11.13"
  }
 },
 "nbformat": 4,
 "nbformat_minor": 5
}
