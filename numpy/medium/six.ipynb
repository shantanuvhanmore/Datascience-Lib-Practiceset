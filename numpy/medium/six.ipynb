{
 "cells": [
  {
   "cell_type": "markdown",
   "id": "30181c4c-603f-465c-abd8-6eb1d5e33690",
   "metadata": {},
   "source": [
    "### 🔸 Q6. Get the indices of the top 3 maximum values  \n",
    "Given a 1D array, return the indices of the **top 3 largest values** using `np.argsort()`.\n"
   ]
  },
  {
   "cell_type": "code",
   "execution_count": 1,
   "id": "fee59d21-d2ea-4a6a-b0f5-7e65c83f42cc",
   "metadata": {},
   "outputs": [],
   "source": [
    "import numpy as np"
   ]
  },
  {
   "cell_type": "code",
   "execution_count": 2,
   "id": "64bf05bc-f43c-4597-bc87-7c7847bc78ed",
   "metadata": {},
   "outputs": [],
   "source": [
    "array = np.random.rand(8)"
   ]
  },
  {
   "cell_type": "code",
   "execution_count": 3,
   "id": "e9c93dd1-bc9e-46e2-b900-b470b4bf4f47",
   "metadata": {},
   "outputs": [],
   "source": [
    "sorted= np.argsort(array)"
   ]
  },
  {
   "cell_type": "code",
   "execution_count": 4,
   "id": "3d5af89d-3fef-422d-9ae1-88c2a471574a",
   "metadata": {},
   "outputs": [
    {
     "data": {
      "text/plain": [
       "array([0, 1, 7, 3, 5, 4, 2, 6])"
      ]
     },
     "execution_count": 4,
     "metadata": {},
     "output_type": "execute_result"
    }
   ],
   "source": [
    "sorted"
   ]
  },
  {
   "cell_type": "code",
   "execution_count": 13,
   "id": "0f50cedf-895d-41f6-859e-017e82c818a5",
   "metadata": {},
   "outputs": [
    {
     "name": "stdout",
     "output_type": "stream",
     "text": [
      "[4 2 6]\n"
     ]
    }
   ],
   "source": [
    "max_values=sorted[-3:]\n",
    "print(max_values)"
   ]
  }
 ],
 "metadata": {
  "kernelspec": {
   "display_name": "Python 3 (ipykernel)",
   "language": "python",
   "name": "python3"
  },
  "language_info": {
   "codemirror_mode": {
    "name": "ipython",
    "version": 3
   },
   "file_extension": ".py",
   "mimetype": "text/x-python",
   "name": "python",
   "nbconvert_exporter": "python",
   "pygments_lexer": "ipython3",
   "version": "3.11.13"
  }
 },
 "nbformat": 4,
 "nbformat_minor": 5
}
