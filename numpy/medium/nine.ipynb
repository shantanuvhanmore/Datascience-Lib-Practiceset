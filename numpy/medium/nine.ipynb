{
 "cells": [
  {
   "cell_type": "markdown",
   "id": "f5e5ac5f-57cf-43df-97e5-9426cda2f55e",
   "metadata": {},
   "source": [
    "### 🔸 Q9. Replace values divisible by 5  \n",
    "- Create a 5x5 matrix with random integers between 10 and 100.\n",
    "- Replace all values divisible by 5 with 0.\n"
   ]
  },
  {
   "cell_type": "code",
   "execution_count": 8,
   "id": "04bbb72c-e49e-4767-9e00-6d090897238a",
   "metadata": {},
   "outputs": [],
   "source": [
    "import numpy as np"
   ]
  },
  {
   "cell_type": "code",
   "execution_count": 9,
   "id": "9dd13363-881d-48aa-a8ce-f6bea36fcd44",
   "metadata": {},
   "outputs": [],
   "source": [
    "values = np.random.randint(1,101,size=25)"
   ]
  },
  {
   "cell_type": "code",
   "execution_count": 10,
   "id": "61688e08-18a1-4bff-948d-daeb84a69618",
   "metadata": {},
   "outputs": [
    {
     "data": {
      "text/plain": [
       "array([[69, 95, 42, 61, 24],\n",
       "       [25, 21, 94, 37, 33],\n",
       "       [82, 89, 79, 64, 66],\n",
       "       [91, 70, 74,  6, 66],\n",
       "       [23, 83, 36, 52,  9]], dtype=int32)"
      ]
     },
     "execution_count": 10,
     "metadata": {},
     "output_type": "execute_result"
    }
   ],
   "source": [
    "array = values.reshape(5,5)\n",
    "array"
   ]
  },
  {
   "cell_type": "code",
   "execution_count": 11,
   "id": "1f62ed14-2a38-4b71-b2bb-8d64d524c7b4",
   "metadata": {},
   "outputs": [],
   "source": [
    "array[array%5==0] = 0"
   ]
  },
  {
   "cell_type": "code",
   "execution_count": 12,
   "id": "78faf4c1-1091-4121-baed-e5a74ef321eb",
   "metadata": {},
   "outputs": [
    {
     "data": {
      "text/plain": [
       "array([[69,  0, 42, 61, 24],\n",
       "       [ 0, 21, 94, 37, 33],\n",
       "       [82, 89, 79, 64, 66],\n",
       "       [91,  0, 74,  6, 66],\n",
       "       [23, 83, 36, 52,  9]], dtype=int32)"
      ]
     },
     "execution_count": 12,
     "metadata": {},
     "output_type": "execute_result"
    }
   ],
   "source": [
    "array"
   ]
  }
 ],
 "metadata": {
  "kernelspec": {
   "display_name": "Python 3 (ipykernel)",
   "language": "python",
   "name": "python3"
  },
  "language_info": {
   "codemirror_mode": {
    "name": "ipython",
    "version": 3
   },
   "file_extension": ".py",
   "mimetype": "text/x-python",
   "name": "python",
   "nbconvert_exporter": "python",
   "pygments_lexer": "ipython3",
   "version": "3.11.13"
  }
 },
 "nbformat": 4,
 "nbformat_minor": 5
}
