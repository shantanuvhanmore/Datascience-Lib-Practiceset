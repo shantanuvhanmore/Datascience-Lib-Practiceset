{
 "cells": [
  {
   "cell_type": "markdown",
   "id": "6a2b8680-f6ef-4f78-aec3-dd02f6f1644a",
   "metadata": {},
   "source": [
    "### 🔸 Q7. Flatten a 2D matrix and sort  \n",
    "- Flatten a given 2D matrix.\n",
    "- Sort all values in ascending order.\n"
   ]
  },
  {
   "cell_type": "code",
   "execution_count": 1,
   "id": "8665e76c-50ba-483b-8a89-5413e79adcfc",
   "metadata": {},
   "outputs": [],
   "source": [
    "import numpy as np"
   ]
  },
  {
   "cell_type": "code",
   "execution_count": 23,
   "id": "034bc98f-9986-4915-93f8-b5053190587c",
   "metadata": {},
   "outputs": [],
   "source": [
    "_2Darray = np.random.rand(4,4)"
   ]
  },
  {
   "cell_type": "code",
   "execution_count": 24,
   "id": "cec57ddd-0514-49b8-bfd1-34d3592abe1f",
   "metadata": {},
   "outputs": [
    {
     "data": {
      "text/plain": [
       "array([[0.48934733, 0.03463751, 0.03797455, 0.06133842],\n",
       "       [0.06247564, 0.38592566, 0.44368634, 0.39380793],\n",
       "       [0.83385327, 0.78524116, 0.4108654 , 0.63965014],\n",
       "       [0.69845193, 0.95951326, 0.872151  , 0.73180057]])"
      ]
     },
     "execution_count": 24,
     "metadata": {},
     "output_type": "execute_result"
    }
   ],
   "source": [
    "_2Darray"
   ]
  },
  {
   "cell_type": "code",
   "execution_count": 25,
   "id": "2cfdd944-ba9a-45d1-bb43-a498e9667598",
   "metadata": {},
   "outputs": [
    {
     "data": {
      "text/plain": [
       "array([0.48934733, 0.03463751, 0.03797455, 0.06133842, 0.06247564,\n",
       "       0.38592566, 0.44368634, 0.39380793, 0.83385327, 0.78524116,\n",
       "       0.4108654 , 0.63965014, 0.69845193, 0.95951326, 0.872151  ,\n",
       "       0.73180057])"
      ]
     },
     "execution_count": 25,
     "metadata": {},
     "output_type": "execute_result"
    }
   ],
   "source": [
    "_1Darray = _2Darray.flatten()\n",
    "_1Darray"
   ]
  },
  {
   "cell_type": "code",
   "execution_count": 27,
   "id": "383dc2a6-3677-4ffd-92fa-110adda091b4",
   "metadata": {},
   "outputs": [
    {
     "data": {
      "text/plain": [
       "array([0.03463751, 0.03797455, 0.06133842, 0.06247564, 0.38592566,\n",
       "       0.39380793, 0.4108654 , 0.44368634, 0.48934733, 0.63965014,\n",
       "       0.69845193, 0.73180057, 0.78524116, 0.83385327, 0.872151  ,\n",
       "       0.95951326])"
      ]
     },
     "execution_count": 27,
     "metadata": {},
     "output_type": "execute_result"
    }
   ],
   "source": [
    "_1Darray.sort()\n",
    "_1Darray"
   ]
  },
  {
   "cell_type": "code",
   "execution_count": 29,
   "id": "47871a50-85a2-4b70-9a6c-6cc3be23b38a",
   "metadata": {},
   "outputs": [
    {
     "data": {
      "text/plain": [
       "array([ 3,  3,  6,  6, 38, 39, 41, 44, 48, 63, 69, 73, 78, 83, 87, 95])"
      ]
     },
     "execution_count": 29,
     "metadata": {},
     "output_type": "execute_result"
    }
   ],
   "source": [
    "array = _1Darray*100\n",
    "array.astype(int)"
   ]
  },
  {
   "cell_type": "code",
   "execution_count": null,
   "id": "ad1dd98f-3a81-4acb-8a69-a250af334641",
   "metadata": {},
   "outputs": [],
   "source": []
  }
 ],
 "metadata": {
  "kernelspec": {
   "display_name": "Python 3 (ipykernel)",
   "language": "python",
   "name": "python3"
  },
  "language_info": {
   "codemirror_mode": {
    "name": "ipython",
    "version": 3
   },
   "file_extension": ".py",
   "mimetype": "text/x-python",
   "name": "python",
   "nbconvert_exporter": "python",
   "pygments_lexer": "ipython3",
   "version": "3.11.13"
  }
 },
 "nbformat": 4,
 "nbformat_minor": 5
}
