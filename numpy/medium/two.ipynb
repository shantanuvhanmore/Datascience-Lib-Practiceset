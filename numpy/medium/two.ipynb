{
 "cells": [
  {
   "cell_type": "markdown",
   "id": "6bf9a6eb-89de-4070-b111-4236ea17ded4",
   "metadata": {},
   "source": [
    "# Q2. Extract a 3x3 submatrix from a 5x5 matrix"
   ]
  },
  {
   "cell_type": "markdown",
   "id": "eadffc59-15f1-4597-89e9-5e5f7f3d0a7d",
   "metadata": {},
   "source": [
    "# Create a 5x5 matrix with values from 1 to 25\n",
    "# Extract the center 3x3 block from it\n"
   ]
  },
  {
   "cell_type": "code",
   "execution_count": 3,
   "id": "f8476551-dce9-47c9-994e-ab1024d4a9ab",
   "metadata": {},
   "outputs": [],
   "source": [
    "import numpy as np "
   ]
  },
  {
   "cell_type": "code",
   "execution_count": 4,
   "id": "f2da6ea6-4f2f-4986-99a6-9f69094428bb",
   "metadata": {},
   "outputs": [],
   "source": [
    "arr = np.arange(1,26,1)"
   ]
  },
  {
   "cell_type": "code",
   "execution_count": 6,
   "id": "f02db638-4960-4f2a-9719-281000f59e4f",
   "metadata": {},
   "outputs": [],
   "source": [
    "arr2 = arr.reshape(5,5)"
   ]
  },
  {
   "cell_type": "code",
   "execution_count": 13,
   "id": "fe931081-3e80-4956-a2be-4ca1ff1eef2b",
   "metadata": {},
   "outputs": [
    {
     "data": {
      "text/plain": [
       "array([[ 1,  2,  3,  4,  5],\n",
       "       [ 6,  7,  8,  9, 10],\n",
       "       [11, 12, 13, 14, 15],\n",
       "       [16, 17, 18, 19, 20],\n",
       "       [21, 22, 23, 24, 25]])"
      ]
     },
     "execution_count": 13,
     "metadata": {},
     "output_type": "execute_result"
    }
   ],
   "source": [
    "arr2"
   ]
  },
  {
   "cell_type": "code",
   "execution_count": 14,
   "id": "545f4b20-2b01-469e-9258-01a665cc0692",
   "metadata": {},
   "outputs": [
    {
     "data": {
      "text/plain": [
       "array([[ 7,  8,  9],\n",
       "       [12, 13, 14],\n",
       "       [17, 18, 19]])"
      ]
     },
     "execution_count": 14,
     "metadata": {},
     "output_type": "execute_result"
    }
   ],
   "source": [
    "arr2[1:4,1:4]"
   ]
  }
 ],
 "metadata": {
  "kernelspec": {
   "display_name": "Python 3 (ipykernel)",
   "language": "python",
   "name": "python3"
  },
  "language_info": {
   "codemirror_mode": {
    "name": "ipython",
    "version": 3
   },
   "file_extension": ".py",
   "mimetype": "text/x-python",
   "name": "python",
   "nbconvert_exporter": "python",
   "pygments_lexer": "ipython3",
   "version": "3.11.13"
  }
 },
 "nbformat": 4,
 "nbformat_minor": 5
}
