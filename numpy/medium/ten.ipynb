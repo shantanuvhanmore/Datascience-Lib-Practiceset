{
 "cells": [
  {
   "cell_type": "markdown",
   "id": "6c9e9096-d5a0-4bdc-84d5-e7afde27908e",
   "metadata": {},
   "source": [
    "### 🔸 Q10. Replace the diagonal with a fixed value  \n",
    "- Given a 3x3 matrix, replace the **main diagonal elements** with the value `9`.\n",
    "- Use `np.fill_diagonal()` for this.\n"
   ]
  },
  {
   "cell_type": "code",
   "execution_count": 1,
   "id": "0f24145b-b309-4c7c-b791-aed3d78c8a85",
   "metadata": {},
   "outputs": [],
   "source": [
    "import numpy as np"
   ]
  },
  {
   "cell_type": "code",
   "execution_count": 2,
   "id": "9e4d48dd-cbea-44d0-9e56-765770c986a2",
   "metadata": {},
   "outputs": [],
   "source": [
    "arr= np.eye(5)"
   ]
  },
  {
   "cell_type": "code",
   "execution_count": 4,
   "id": "6c146f23-2f36-4b2c-b31f-877c088458a7",
   "metadata": {},
   "outputs": [],
   "source": [
    "np.fill_diagonal(arr,7)"
   ]
  },
  {
   "cell_type": "code",
   "execution_count": 5,
   "id": "ae63f7ff-59cc-4836-8b1d-01b684877740",
   "metadata": {},
   "outputs": [
    {
     "data": {
      "text/plain": [
       "array([[7., 0., 0., 0., 0.],\n",
       "       [0., 7., 0., 0., 0.],\n",
       "       [0., 0., 7., 0., 0.],\n",
       "       [0., 0., 0., 7., 0.],\n",
       "       [0., 0., 0., 0., 7.]])"
      ]
     },
     "execution_count": 5,
     "metadata": {},
     "output_type": "execute_result"
    }
   ],
   "source": [
    "arr"
   ]
  }
 ],
 "metadata": {
  "kernelspec": {
   "display_name": "Python 3 (ipykernel)",
   "language": "python",
   "name": "python3"
  },
  "language_info": {
   "codemirror_mode": {
    "name": "ipython",
    "version": 3
   },
   "file_extension": ".py",
   "mimetype": "text/x-python",
   "name": "python",
   "nbconvert_exporter": "python",
   "pygments_lexer": "ipython3",
   "version": "3.11.13"
  }
 },
 "nbformat": 4,
 "nbformat_minor": 5
}
