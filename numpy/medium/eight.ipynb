{
 "cells": [
  {
   "cell_type": "markdown",
   "id": "4be161ad-74bd-460d-83e2-e43fd013fb08",
   "metadata": {},
   "source": [
    "### 🔸 Q8. Count values greater than the mean  \n",
    "Given an array, count how many elements are **greater than the mean** of the array.\n"
   ]
  },
  {
   "cell_type": "code",
   "execution_count": 5,
   "id": "02f6c2bf-2306-4528-8c45-9aae2053fe50",
   "metadata": {},
   "outputs": [],
   "source": [
    "import numpy as np"
   ]
  },
  {
   "cell_type": "code",
   "execution_count": 6,
   "id": "1058abc3-bf6e-4592-ba3c-6ca4efe52730",
   "metadata": {},
   "outputs": [],
   "source": [
    "arr = np.array([ 3,  3,  6,  6, 38, 39, 41, 44, 48, 63, 69, 73, 78, 83, 87, 95])"
   ]
  },
  {
   "cell_type": "code",
   "execution_count": 7,
   "id": "6806af9c-8603-4f0f-8089-18c3c35031c8",
   "metadata": {},
   "outputs": [
    {
     "data": {
      "text/plain": [
       "array([63, 69, 73, 78, 83, 87, 95])"
      ]
     },
     "execution_count": 7,
     "metadata": {},
     "output_type": "execute_result"
    }
   ],
   "source": [
    "maximum = arr[arr>arr.mean()]\n",
    "maximum"
   ]
  },
  {
   "cell_type": "code",
   "execution_count": null,
   "id": "6cf19ba6-5033-4f58-8488-acdd81ec94d3",
   "metadata": {},
   "outputs": [],
   "source": []
  }
 ],
 "metadata": {
  "kernelspec": {
   "display_name": "Python 3 (ipykernel)",
   "language": "python",
   "name": "python3"
  },
  "language_info": {
   "codemirror_mode": {
    "name": "ipython",
    "version": 3
   },
   "file_extension": ".py",
   "mimetype": "text/x-python",
   "name": "python",
   "nbconvert_exporter": "python",
   "pygments_lexer": "ipython3",
   "version": "3.11.13"
  }
 },
 "nbformat": 4,
 "nbformat_minor": 5
}
