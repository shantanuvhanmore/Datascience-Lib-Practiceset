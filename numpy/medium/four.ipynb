{
 "cells": [
  {
   "cell_type": "markdown",
   "id": "3213cfbe-3030-4323-8591-07d30c338d98",
   "metadata": {},
   "source": [
    "### 🔸 Q4. Normalize a NumPy array  \n",
    "Transform any given array into a normalized form such that:\n",
    "normalized_value = (x - min) / (max - min)"
   ]
  },
  {
   "cell_type": "code",
   "execution_count": 1,
   "id": "c85ba264-af51-44e6-b2e2-38668e9b87d5",
   "metadata": {},
   "outputs": [],
   "source": [
    "import numpy as np"
   ]
  },
  {
   "cell_type": "code",
   "execution_count": 2,
   "id": "3f6e663d-f126-47ab-97a3-0ffc76f1cc71",
   "metadata": {},
   "outputs": [],
   "source": [
    "arr= np.array([1, 2, 3, 4, 5])"
   ]
  },
  {
   "cell_type": "code",
   "execution_count": 6,
   "id": "1af06991-662e-4206-ba74-750f15ea095b",
   "metadata": {},
   "outputs": [],
   "source": [
    "normalized = (arr- arr.min())/(arr.max()-arr.min())"
   ]
  },
  {
   "cell_type": "code",
   "execution_count": 7,
   "id": "0c0207b6-435a-4ea9-978d-da277467d4d3",
   "metadata": {},
   "outputs": [
    {
     "data": {
      "text/plain": [
       "array([0.  , 0.25, 0.5 , 0.75, 1.  ])"
      ]
     },
     "execution_count": 7,
     "metadata": {},
     "output_type": "execute_result"
    }
   ],
   "source": [
    "normalized"
   ]
  }
 ],
 "metadata": {
  "kernelspec": {
   "display_name": "Python 3 (ipykernel)",
   "language": "python",
   "name": "python3"
  },
  "language_info": {
   "codemirror_mode": {
    "name": "ipython",
    "version": 3
   },
   "file_extension": ".py",
   "mimetype": "text/x-python",
   "name": "python",
   "nbconvert_exporter": "python",
   "pygments_lexer": "ipython3",
   "version": "3.11.13"
  }
 },
 "nbformat": 4,
 "nbformat_minor": 5
}
