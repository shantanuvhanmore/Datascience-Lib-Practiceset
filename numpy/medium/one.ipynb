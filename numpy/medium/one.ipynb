{
 "cells": [
  {
   "cell_type": "markdown",
   "id": "a61d9489-ed5c-4cd4-bc18-b89d6008cc6d",
   "metadata": {},
   "source": [
    "# Q1. Reshape a 1D array to 3x4"
   ]
  },
  {
   "cell_type": "markdown",
   "id": "45817693-2e88-4d3d-be94-b47bc878c8bd",
   "metadata": {},
   "source": [
    "**Create a 1D array from 1 to 12 and reshape it to 3x4**\n",
    "\n",
    "**Output: array([[1, 2, 3, 4],\n",
    "               [5, 6, 7, 8],\n",
    "               [9,10,11,12]])**\n",
    "               \n"
   ]
  },
  {
   "cell_type": "code",
   "execution_count": 1,
   "id": "228f05fa-adcc-4d88-963e-58bb49d435b1",
   "metadata": {},
   "outputs": [],
   "source": [
    "import numpy as np"
   ]
  },
  {
   "cell_type": "code",
   "execution_count": 2,
   "id": "04e693cc-f8a9-42e8-9b6f-9280401b1a32",
   "metadata": {},
   "outputs": [],
   "source": [
    "arr = np.arange(1,13,1)"
   ]
  },
  {
   "cell_type": "code",
   "execution_count": 3,
   "id": "fae5c759-adbb-41bd-8894-f6717bd2f208",
   "metadata": {},
   "outputs": [],
   "source": [
    "arr2 = arr.reshape(3,4)"
   ]
  },
  {
   "cell_type": "code",
   "execution_count": 4,
   "id": "f0350cf3-f40f-4108-a782-1794a98d2bcd",
   "metadata": {},
   "outputs": [
    {
     "data": {
      "text/plain": [
       "array([[ 1,  2,  3,  4],\n",
       "       [ 5,  6,  7,  8],\n",
       "       [ 9, 10, 11, 12]])"
      ]
     },
     "execution_count": 4,
     "metadata": {},
     "output_type": "execute_result"
    }
   ],
   "source": [
    "arr2"
   ]
  }
 ],
 "metadata": {
  "kernelspec": {
   "display_name": "Python 3 (ipykernel)",
   "language": "python",
   "name": "python3"
  },
  "language_info": {
   "codemirror_mode": {
    "name": "ipython",
    "version": 3
   },
   "file_extension": ".py",
   "mimetype": "text/x-python",
   "name": "python",
   "nbconvert_exporter": "python",
   "pygments_lexer": "ipython3",
   "version": "3.11.13"
  }
 },
 "nbformat": 4,
 "nbformat_minor": 5
}
