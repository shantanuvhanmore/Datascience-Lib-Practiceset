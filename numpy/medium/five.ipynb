{
 "cells": [
  {
   "cell_type": "markdown",
   "id": "bb96c736-228f-4692-b63f-0af8f9db15d9",
   "metadata": {},
   "source": [
    "### 🔸 Q5. Matrix Multiplication  \n",
    "- Create a 4x4 identity matrix.\n",
    "- Multiply it with a randomly generated 4x4 matrix using `np.dot()` or `@`.\n"
   ]
  },
  {
   "cell_type": "code",
   "execution_count": 1,
   "id": "d5385410-273f-49e8-9888-5bbc78cf7b5a",
   "metadata": {},
   "outputs": [],
   "source": [
    "import numpy as np"
   ]
  },
  {
   "cell_type": "code",
   "execution_count": 2,
   "id": "a24c3c81-25f1-4fcf-9769-d772f17591b1",
   "metadata": {},
   "outputs": [],
   "source": [
    "identity = np.eye(4)"
   ]
  },
  {
   "cell_type": "code",
   "execution_count": 3,
   "id": "8901afba-1f58-480b-91c3-7bd30002cc75",
   "metadata": {},
   "outputs": [],
   "source": [
    "random_matrix= np.random.rand(4,4)\n",
    "result = identity @ random_matrix"
   ]
  },
  {
   "cell_type": "code",
   "execution_count": 4,
   "id": "e89cf000-238d-490a-8e94-b7e1c605f230",
   "metadata": {},
   "outputs": [
    {
     "data": {
      "text/plain": [
       "array([[0.40242369, 0.50847025, 0.54552433, 0.09520621],\n",
       "       [0.13798581, 0.71271446, 0.4814827 , 0.2093349 ],\n",
       "       [0.70448583, 0.38607287, 0.72290661, 0.24536338],\n",
       "       [0.3592364 , 0.08954358, 0.38101627, 0.066931  ]])"
      ]
     },
     "execution_count": 4,
     "metadata": {},
     "output_type": "execute_result"
    }
   ],
   "source": [
    "result"
   ]
  },
  {
   "cell_type": "code",
   "execution_count": null,
   "id": "46417a7e-cfca-456c-afee-814fe32ac7fd",
   "metadata": {},
   "outputs": [],
   "source": []
  }
 ],
 "metadata": {
  "kernelspec": {
   "display_name": "Python 3 (ipykernel)",
   "language": "python",
   "name": "python3"
  },
  "language_info": {
   "codemirror_mode": {
    "name": "ipython",
    "version": 3
   },
   "file_extension": ".py",
   "mimetype": "text/x-python",
   "name": "python",
   "nbconvert_exporter": "python",
   "pygments_lexer": "ipython3",
   "version": "3.11.13"
  }
 },
 "nbformat": 4,
 "nbformat_minor": 5
}
