{
 "cells": [
  {
   "cell_type": "markdown",
   "id": "380dce2d-246a-4c12-a4b0-897402199a34",
   "metadata": {},
   "source": [
    "### 🔸 Q2. Missing Value Handling\n",
    "Given a DataFrame with some `NaN` values in the \"Salary\" column:  \n",
    "- Fill missing values with the **mean salary**.\n"
   ]
  },
  {
   "cell_type": "code",
   "execution_count": 1,
   "id": "76c17432-3067-45f2-862a-77dcf5d518d0",
   "metadata": {},
   "outputs": [],
   "source": [
    "import pandas as pd"
   ]
  },
  {
   "cell_type": "code",
   "execution_count": 2,
   "id": "c52e47f8-00c3-4c51-bf8f-efdda1f1a0c0",
   "metadata": {},
   "outputs": [],
   "source": [
    "df = pd.DataFrame({\n",
    "    'Name': ['Ravi', 'Sneha', 'Arjun', 'Isha'],\n",
    "    'Salary': [45000, None, 52000, None]\n",
    "})"
   ]
  },
  {
   "cell_type": "code",
   "execution_count": 3,
   "id": "1a2c07a9-aff5-4a1e-8adc-e3aeda29213f",
   "metadata": {},
   "outputs": [
    {
     "data": {
      "text/plain": [
       "0    False\n",
       "1     True\n",
       "2    False\n",
       "3     True\n",
       "Name: Salary, dtype: bool"
      ]
     },
     "execution_count": 3,
     "metadata": {},
     "output_type": "execute_result"
    }
   ],
   "source": [
    "df['Salary'].isnull()"
   ]
  },
  {
   "cell_type": "code",
   "execution_count": 6,
   "id": "b0e868d1-7e1a-486d-a0a5-fd5051e99861",
   "metadata": {},
   "outputs": [
    {
     "data": {
      "text/plain": [
       "0    45000.0\n",
       "1    48500.0\n",
       "2    52000.0\n",
       "3    48500.0\n",
       "Name: Salary, dtype: float64"
      ]
     },
     "execution_count": 6,
     "metadata": {},
     "output_type": "execute_result"
    }
   ],
   "source": [
    "df['Salary'].fillna(df['Salary'].mean())"
   ]
  }
 ],
 "metadata": {
  "kernelspec": {
   "display_name": "Python 3 (ipykernel)",
   "language": "python",
   "name": "python3"
  },
  "language_info": {
   "codemirror_mode": {
    "name": "ipython",
    "version": 3
   },
   "file_extension": ".py",
   "mimetype": "text/x-python",
   "name": "python",
   "nbconvert_exporter": "python",
   "pygments_lexer": "ipython3",
   "version": "3.11.13"
  }
 },
 "nbformat": 4,
 "nbformat_minor": 5
}
