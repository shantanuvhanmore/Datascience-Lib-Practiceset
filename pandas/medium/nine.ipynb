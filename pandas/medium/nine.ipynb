{
 "cells": [
  {
   "cell_type": "markdown",
   "id": "5abc906b-7586-4fdd-b8e1-72e9f1e78f92",
   "metadata": {},
   "source": [
    "### 🔸 Q9. Extract Year from Date Column\n",
    "Create a DataFrame with a column `JoinDate` in the format `YYYY-MM-DD`.  \n",
    "Extract the **year** from each date into a new column called `JoinYear`.\n"
   ]
  },
  {
   "cell_type": "code",
   "execution_count": 23,
   "id": "9157fe61-d7a3-4fae-8bfd-d9ce5baffac1",
   "metadata": {},
   "outputs": [],
   "source": [
    "import pandas as pd\n",
    "df = pd.DataFrame({\n",
    "    'Name': ['Amit', 'Bhavna', 'Chetan'],\n",
    "    'JoinDate': ['2020-05-21', '2019-08-01', '2021-01-15']\n",
    "})\n"
   ]
  },
  {
   "cell_type": "code",
   "execution_count": 24,
   "id": "f5c70660-ef2b-4809-8ea4-a3772c7b0cc1",
   "metadata": {},
   "outputs": [],
   "source": [
    "#df['JoinDate'] = pd.to_datetime(df['JoinDate'])\n",
    "#df['JoinYear'] = df['JoinDate'].dt.year"
   ]
  },
  {
   "cell_type": "code",
   "execution_count": 25,
   "id": "a32a4542-fb3f-4745-9c17-9d227c364f72",
   "metadata": {},
   "outputs": [],
   "source": [
    "df['JoinYear'] = df['JoinDate'].str[:4]"
   ]
  },
  {
   "cell_type": "code",
   "execution_count": 26,
   "id": "255791ff-a675-4879-8290-801ceac09e51",
   "metadata": {},
   "outputs": [
    {
     "data": {
      "text/html": [
       "<div>\n",
       "<style scoped>\n",
       "    .dataframe tbody tr th:only-of-type {\n",
       "        vertical-align: middle;\n",
       "    }\n",
       "\n",
       "    .dataframe tbody tr th {\n",
       "        vertical-align: top;\n",
       "    }\n",
       "\n",
       "    .dataframe thead th {\n",
       "        text-align: right;\n",
       "    }\n",
       "</style>\n",
       "<table border=\"1\" class=\"dataframe\">\n",
       "  <thead>\n",
       "    <tr style=\"text-align: right;\">\n",
       "      <th></th>\n",
       "      <th>Name</th>\n",
       "      <th>JoinDate</th>\n",
       "      <th>JoinYear</th>\n",
       "    </tr>\n",
       "  </thead>\n",
       "  <tbody>\n",
       "    <tr>\n",
       "      <th>0</th>\n",
       "      <td>Amit</td>\n",
       "      <td>2020-05-21</td>\n",
       "      <td>2020</td>\n",
       "    </tr>\n",
       "    <tr>\n",
       "      <th>1</th>\n",
       "      <td>Bhavna</td>\n",
       "      <td>2019-08-01</td>\n",
       "      <td>2019</td>\n",
       "    </tr>\n",
       "    <tr>\n",
       "      <th>2</th>\n",
       "      <td>Chetan</td>\n",
       "      <td>2021-01-15</td>\n",
       "      <td>2021</td>\n",
       "    </tr>\n",
       "  </tbody>\n",
       "</table>\n",
       "</div>"
      ],
      "text/plain": [
       "     Name    JoinDate JoinYear\n",
       "0    Amit  2020-05-21     2020\n",
       "1  Bhavna  2019-08-01     2019\n",
       "2  Chetan  2021-01-15     2021"
      ]
     },
     "execution_count": 26,
     "metadata": {},
     "output_type": "execute_result"
    }
   ],
   "source": [
    "df"
   ]
  }
 ],
 "metadata": {
  "kernelspec": {
   "display_name": "Python 3 (ipykernel)",
   "language": "python",
   "name": "python3"
  },
  "language_info": {
   "codemirror_mode": {
    "name": "ipython",
    "version": 3
   },
   "file_extension": ".py",
   "mimetype": "text/x-python",
   "name": "python",
   "nbconvert_exporter": "python",
   "pygments_lexer": "ipython3",
   "version": "3.11.13"
  }
 },
 "nbformat": 4,
 "nbformat_minor": 5
}
