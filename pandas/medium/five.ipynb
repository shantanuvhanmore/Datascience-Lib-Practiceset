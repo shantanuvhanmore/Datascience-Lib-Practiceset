{
 "cells": [
  {
   "cell_type": "markdown",
   "id": "eff7a98f-acf4-4098-97e2-48400e922bc1",
   "metadata": {},
   "source": [
    "### 🔸 Q5. Add a Derived Column\n",
    "Given a DataFrame with a `Price` and `Quantity` column, add a new column called `Total` that multiplies both.\n"
   ]
  },
  {
   "cell_type": "code",
   "execution_count": 2,
   "id": "73322215-daeb-4729-8c9b-9a70a0df2186",
   "metadata": {},
   "outputs": [],
   "source": [
    "import pandas as pd\n",
    "df = pd.DataFrame({\n",
    "    'Item': ['Pen', 'Notebook', 'Eraser'],\n",
    "    'Price': [10, 50, 5],\n",
    "    'Quantity': [5, 3, 10]\n",
    "})"
   ]
  },
  {
   "cell_type": "code",
   "execution_count": 4,
   "id": "63af4c42-d31b-4447-899e-d5e610cd3c1f",
   "metadata": {},
   "outputs": [],
   "source": [
    "df['Total']=df['Price']*df['Quantity']"
   ]
  },
  {
   "cell_type": "code",
   "execution_count": 5,
   "id": "7aa663cd-e052-4cba-8fa2-addd2f9c9f55",
   "metadata": {},
   "outputs": [
    {
     "data": {
      "text/html": [
       "<div>\n",
       "<style scoped>\n",
       "    .dataframe tbody tr th:only-of-type {\n",
       "        vertical-align: middle;\n",
       "    }\n",
       "\n",
       "    .dataframe tbody tr th {\n",
       "        vertical-align: top;\n",
       "    }\n",
       "\n",
       "    .dataframe thead th {\n",
       "        text-align: right;\n",
       "    }\n",
       "</style>\n",
       "<table border=\"1\" class=\"dataframe\">\n",
       "  <thead>\n",
       "    <tr style=\"text-align: right;\">\n",
       "      <th></th>\n",
       "      <th>Item</th>\n",
       "      <th>Price</th>\n",
       "      <th>Quantity</th>\n",
       "      <th>Total</th>\n",
       "    </tr>\n",
       "  </thead>\n",
       "  <tbody>\n",
       "    <tr>\n",
       "      <th>0</th>\n",
       "      <td>Pen</td>\n",
       "      <td>10</td>\n",
       "      <td>5</td>\n",
       "      <td>50</td>\n",
       "    </tr>\n",
       "    <tr>\n",
       "      <th>1</th>\n",
       "      <td>Notebook</td>\n",
       "      <td>50</td>\n",
       "      <td>3</td>\n",
       "      <td>150</td>\n",
       "    </tr>\n",
       "    <tr>\n",
       "      <th>2</th>\n",
       "      <td>Eraser</td>\n",
       "      <td>5</td>\n",
       "      <td>10</td>\n",
       "      <td>50</td>\n",
       "    </tr>\n",
       "  </tbody>\n",
       "</table>\n",
       "</div>"
      ],
      "text/plain": [
       "       Item  Price  Quantity  Total\n",
       "0       Pen     10         5     50\n",
       "1  Notebook     50         3    150\n",
       "2    Eraser      5        10     50"
      ]
     },
     "execution_count": 5,
     "metadata": {},
     "output_type": "execute_result"
    }
   ],
   "source": [
    "df"
   ]
  }
 ],
 "metadata": {
  "kernelspec": {
   "display_name": "Python 3 (ipykernel)",
   "language": "python",
   "name": "python3"
  },
  "language_info": {
   "codemirror_mode": {
    "name": "ipython",
    "version": 3
   },
   "file_extension": ".py",
   "mimetype": "text/x-python",
   "name": "python",
   "nbconvert_exporter": "python",
   "pygments_lexer": "ipython3",
   "version": "3.11.13"
  }
 },
 "nbformat": 4,
 "nbformat_minor": 5
}
