{
 "cells": [
  {
   "cell_type": "markdown",
   "id": "842196cf-24d4-47ed-87ee-050bf4175649",
   "metadata": {},
   "source": [
    "### 🔸 Q7. Merging Two DataFrames\n",
    "Merge two DataFrames:\n",
    "- One with `Employee ID` and `Name`\n",
    "- One with `Employee ID` and `Salary`  \n",
    "Join them using `Employee ID`.\n"
   ]
  },
  {
   "cell_type": "code",
   "execution_count": 2,
   "id": "1b849cf1-f813-4335-ac45-2461f0728246",
   "metadata": {},
   "outputs": [],
   "source": [
    "import pandas as pd\n",
    "employees = pd.DataFrame({\n",
    "    'Employee ID': [101, 102, 103],\n",
    "    'Name': ['Ravi', 'Sneha', 'Arjun']\n",
    "})\n",
    "\n",
    "salaries = pd.DataFrame({\n",
    "    'Employee ID': [101, 102, 103],\n",
    "    'Salary': [50000, 60000, 55000]\n",
    "})\n"
   ]
  },
  {
   "cell_type": "code",
   "execution_count": 8,
   "id": "508425ec-8072-48c2-91c9-19c662c75e88",
   "metadata": {},
   "outputs": [
    {
     "data": {
      "text/html": [
       "<div>\n",
       "<style scoped>\n",
       "    .dataframe tbody tr th:only-of-type {\n",
       "        vertical-align: middle;\n",
       "    }\n",
       "\n",
       "    .dataframe tbody tr th {\n",
       "        vertical-align: top;\n",
       "    }\n",
       "\n",
       "    .dataframe thead th {\n",
       "        text-align: right;\n",
       "    }\n",
       "</style>\n",
       "<table border=\"1\" class=\"dataframe\">\n",
       "  <thead>\n",
       "    <tr style=\"text-align: right;\">\n",
       "      <th></th>\n",
       "      <th>Employee ID</th>\n",
       "      <th>Name</th>\n",
       "      <th>Salary</th>\n",
       "    </tr>\n",
       "  </thead>\n",
       "  <tbody>\n",
       "    <tr>\n",
       "      <th>0</th>\n",
       "      <td>101</td>\n",
       "      <td>Ravi</td>\n",
       "      <td>50000</td>\n",
       "    </tr>\n",
       "    <tr>\n",
       "      <th>1</th>\n",
       "      <td>102</td>\n",
       "      <td>Sneha</td>\n",
       "      <td>60000</td>\n",
       "    </tr>\n",
       "    <tr>\n",
       "      <th>2</th>\n",
       "      <td>103</td>\n",
       "      <td>Arjun</td>\n",
       "      <td>55000</td>\n",
       "    </tr>\n",
       "  </tbody>\n",
       "</table>\n",
       "</div>"
      ],
      "text/plain": [
       "   Employee ID   Name  Salary\n",
       "0          101   Ravi   50000\n",
       "1          102  Sneha   60000\n",
       "2          103  Arjun   55000"
      ]
     },
     "execution_count": 8,
     "metadata": {},
     "output_type": "execute_result"
    }
   ],
   "source": [
    "merged_df = pd.merge(employees, salaries, on='Employee ID')\n",
    "merged_df"
   ]
  }
 ],
 "metadata": {
  "kernelspec": {
   "display_name": "Python 3 (ipykernel)",
   "language": "python",
   "name": "python3"
  },
  "language_info": {
   "codemirror_mode": {
    "name": "ipython",
    "version": 3
   },
   "file_extension": ".py",
   "mimetype": "text/x-python",
   "name": "python",
   "nbconvert_exporter": "python",
   "pygments_lexer": "ipython3",
   "version": "3.11.13"
  }
 },
 "nbformat": 4,
 "nbformat_minor": 5
}
