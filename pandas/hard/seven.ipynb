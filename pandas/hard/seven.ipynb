{
 "cells": [
  {
   "cell_type": "markdown",
   "id": "34614133-4ccb-4595-9d7f-ea8a0aaaa439",
   "metadata": {},
   "source": [
    "### 🔹 Q7. Apply a custom function that categorizes employees based on their performance rating."
   ]
  },
  {
   "cell_type": "code",
   "execution_count": 2,
   "id": "6ede44a8-e314-4c64-b815-6ac76f054c30",
   "metadata": {},
   "outputs": [],
   "source": [
    "import pandas as pd\n",
    "df = pd.DataFrame({\n",
    "    'Name': ['John', 'Jane', 'Doe', 'Smith', 'Emily'],\n",
    "    'Performance': [4.8, 3.2, 2.9, 4.0, 4.5]\n",
    "})\n",
    "# Categories: 4.5+ = 'Excellent', 3-4.5 = 'Good', <3 = 'Needs Improvement'"
   ]
  },
  {
   "cell_type": "code",
   "execution_count": 5,
   "id": "9465f470-6843-4196-946b-25c65382f9ea",
   "metadata": {},
   "outputs": [],
   "source": [
    "\n",
    "def categorize_performance(rating):\n",
    "   if rating >= 4.5:\n",
    "       return 'Excellent'\n",
    "   elif rating >= 3.0:\n",
    "       return 'Good'\n",
    "   else:\n",
    "       return 'Needs Improvement'\n",
    "\n",
    "df['Category'] = df['Performance'].apply(categorize_performance)"
   ]
  },
  {
   "cell_type": "code",
   "execution_count": 6,
   "id": "c8233eeb-5984-47f0-a992-68cf6d95cce3",
   "metadata": {},
   "outputs": [
    {
     "data": {
      "text/html": [
       "<div>\n",
       "<style scoped>\n",
       "    .dataframe tbody tr th:only-of-type {\n",
       "        vertical-align: middle;\n",
       "    }\n",
       "\n",
       "    .dataframe tbody tr th {\n",
       "        vertical-align: top;\n",
       "    }\n",
       "\n",
       "    .dataframe thead th {\n",
       "        text-align: right;\n",
       "    }\n",
       "</style>\n",
       "<table border=\"1\" class=\"dataframe\">\n",
       "  <thead>\n",
       "    <tr style=\"text-align: right;\">\n",
       "      <th></th>\n",
       "      <th>Name</th>\n",
       "      <th>Performance</th>\n",
       "      <th>Category</th>\n",
       "    </tr>\n",
       "  </thead>\n",
       "  <tbody>\n",
       "    <tr>\n",
       "      <th>0</th>\n",
       "      <td>John</td>\n",
       "      <td>4.8</td>\n",
       "      <td>Excellent</td>\n",
       "    </tr>\n",
       "    <tr>\n",
       "      <th>1</th>\n",
       "      <td>Jane</td>\n",
       "      <td>3.2</td>\n",
       "      <td>Good</td>\n",
       "    </tr>\n",
       "    <tr>\n",
       "      <th>2</th>\n",
       "      <td>Doe</td>\n",
       "      <td>2.9</td>\n",
       "      <td>Needs Improvement</td>\n",
       "    </tr>\n",
       "    <tr>\n",
       "      <th>3</th>\n",
       "      <td>Smith</td>\n",
       "      <td>4.0</td>\n",
       "      <td>Good</td>\n",
       "    </tr>\n",
       "    <tr>\n",
       "      <th>4</th>\n",
       "      <td>Emily</td>\n",
       "      <td>4.5</td>\n",
       "      <td>Excellent</td>\n",
       "    </tr>\n",
       "  </tbody>\n",
       "</table>\n",
       "</div>"
      ],
      "text/plain": [
       "    Name  Performance           Category\n",
       "0   John          4.8          Excellent\n",
       "1   Jane          3.2               Good\n",
       "2    Doe          2.9  Needs Improvement\n",
       "3  Smith          4.0               Good\n",
       "4  Emily          4.5          Excellent"
      ]
     },
     "execution_count": 6,
     "metadata": {},
     "output_type": "execute_result"
    }
   ],
   "source": [
    "df"
   ]
  }
 ],
 "metadata": {
  "kernelspec": {
   "display_name": "Python 3 (ipykernel)",
   "language": "python",
   "name": "python3"
  },
  "language_info": {
   "codemirror_mode": {
    "name": "ipython",
    "version": 3
   },
   "file_extension": ".py",
   "mimetype": "text/x-python",
   "name": "python",
   "nbconvert_exporter": "python",
   "pygments_lexer": "ipython3",
   "version": "3.11.13"
  }
 },
 "nbformat": 4,
 "nbformat_minor": 5
}
