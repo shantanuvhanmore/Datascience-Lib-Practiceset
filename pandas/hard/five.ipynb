{
 "cells": [
  {
   "cell_type": "markdown",
   "id": "98f3f471-70e9-4029-b5e7-475d48818266",
   "metadata": {},
   "source": [
    "### 🔹 Q5. From the following DataFrame, compute correlation between columns.\n",
    "\n",
    "```python\n",
    "df = pd.DataFrame({\n",
    "    'Maths': [90, 80, 85, 70, 60],\n",
    "    'Science': [88, 78, 84, 65, 59],\n",
    "    'English': [75, 70, 72, 60, 55]\n",
    "})\n",
    "```\n"
   ]
  }
 ],
 "metadata": {
  "kernelspec": {
   "display_name": "Python 3 (ipykernel)",
   "language": "python",
   "name": "python3"
  },
  "language_info": {
   "codemirror_mode": {
    "name": "ipython",
    "version": 3
   },
   "file_extension": ".py",
   "mimetype": "text/x-python",
   "name": "python",
   "nbconvert_exporter": "python",
   "pygments_lexer": "ipython3",
   "version": "3.11.13"
  }
 },
 "nbformat": 4,
 "nbformat_minor": 5
}
