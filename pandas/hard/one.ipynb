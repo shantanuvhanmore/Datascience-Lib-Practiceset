{
 "cells": [
  {
   "cell_type": "markdown",
   "id": "f8b68d47-a890-47fa-9bd0-78492d0738c3",
   "metadata": {},
   "source": [
    "### 🔹 Q1. Merge two DataFrames on multiple columns and handle overlapping column names using suffixes.\n"
   ]
  },
  {
   "cell_type": "code",
   "execution_count": 1,
   "id": "729388c4-071a-408c-8f79-98d178ab745f",
   "metadata": {},
   "outputs": [],
   "source": [
    "\n",
    "import pandas as pd\n",
    "\n",
    "df1 = pd.DataFrame({\n",
    "    'ID': [101, 102, 103, 104],\n",
    "    'Department': ['HR', 'Tech', 'Sales', 'Tech'],\n",
    "    'Score': [90, 85, 75, 88]\n",
    "})\n",
    "\n",
    "df2 = pd.DataFrame({\n",
    "    'ID': [102, 103, 104, 105],\n",
    "    'Department': ['Tech', 'Sales', 'Tech', 'HR'],\n",
    "    'Score': [89, 77, 90, 95]\n",
    "})"
   ]
  },
  {
   "cell_type": "code",
   "execution_count": 5,
   "id": "eed90f07-a4f2-4f3f-9626-58f3953bf525",
   "metadata": {},
   "outputs": [],
   "source": [
    "merged_df=pd.merge(df1,df2,on=('ID','Department','Score'),how='outer')"
   ]
  },
  {
   "cell_type": "code",
   "execution_count": 6,
   "id": "7116bf81-5f2f-490b-8f20-6c605d368b96",
   "metadata": {},
   "outputs": [
    {
     "data": {
      "text/html": [
       "<div>\n",
       "<style scoped>\n",
       "    .dataframe tbody tr th:only-of-type {\n",
       "        vertical-align: middle;\n",
       "    }\n",
       "\n",
       "    .dataframe tbody tr th {\n",
       "        vertical-align: top;\n",
       "    }\n",
       "\n",
       "    .dataframe thead th {\n",
       "        text-align: right;\n",
       "    }\n",
       "</style>\n",
       "<table border=\"1\" class=\"dataframe\">\n",
       "  <thead>\n",
       "    <tr style=\"text-align: right;\">\n",
       "      <th></th>\n",
       "      <th>ID</th>\n",
       "      <th>Department</th>\n",
       "      <th>Score</th>\n",
       "    </tr>\n",
       "  </thead>\n",
       "  <tbody>\n",
       "    <tr>\n",
       "      <th>0</th>\n",
       "      <td>101</td>\n",
       "      <td>HR</td>\n",
       "      <td>90</td>\n",
       "    </tr>\n",
       "    <tr>\n",
       "      <th>1</th>\n",
       "      <td>102</td>\n",
       "      <td>Tech</td>\n",
       "      <td>85</td>\n",
       "    </tr>\n",
       "    <tr>\n",
       "      <th>2</th>\n",
       "      <td>102</td>\n",
       "      <td>Tech</td>\n",
       "      <td>89</td>\n",
       "    </tr>\n",
       "    <tr>\n",
       "      <th>3</th>\n",
       "      <td>103</td>\n",
       "      <td>Sales</td>\n",
       "      <td>75</td>\n",
       "    </tr>\n",
       "    <tr>\n",
       "      <th>4</th>\n",
       "      <td>103</td>\n",
       "      <td>Sales</td>\n",
       "      <td>77</td>\n",
       "    </tr>\n",
       "    <tr>\n",
       "      <th>5</th>\n",
       "      <td>104</td>\n",
       "      <td>Tech</td>\n",
       "      <td>88</td>\n",
       "    </tr>\n",
       "    <tr>\n",
       "      <th>6</th>\n",
       "      <td>104</td>\n",
       "      <td>Tech</td>\n",
       "      <td>90</td>\n",
       "    </tr>\n",
       "    <tr>\n",
       "      <th>7</th>\n",
       "      <td>105</td>\n",
       "      <td>HR</td>\n",
       "      <td>95</td>\n",
       "    </tr>\n",
       "  </tbody>\n",
       "</table>\n",
       "</div>"
      ],
      "text/plain": [
       "    ID Department  Score\n",
       "0  101         HR     90\n",
       "1  102       Tech     85\n",
       "2  102       Tech     89\n",
       "3  103      Sales     75\n",
       "4  103      Sales     77\n",
       "5  104       Tech     88\n",
       "6  104       Tech     90\n",
       "7  105         HR     95"
      ]
     },
     "execution_count": 6,
     "metadata": {},
     "output_type": "execute_result"
    }
   ],
   "source": [
    "merged_df"
   ]
  },
  {
   "cell_type": "code",
   "execution_count": null,
   "id": "35d49115-d830-47ef-aaa9-47855d2a03fc",
   "metadata": {},
   "outputs": [],
   "source": []
  }
 ],
 "metadata": {
  "kernelspec": {
   "display_name": "Python 3 (ipykernel)",
   "language": "python",
   "name": "python3"
  },
  "language_info": {
   "codemirror_mode": {
    "name": "ipython",
    "version": 3
   },
   "file_extension": ".py",
   "mimetype": "text/x-python",
   "name": "python",
   "nbconvert_exporter": "python",
   "pygments_lexer": "ipython3",
   "version": "3.11.13"
  }
 },
 "nbformat": 4,
 "nbformat_minor": 5
}
