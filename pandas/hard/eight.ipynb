{
 "cells": [
  {
   "cell_type": "markdown",
   "id": "71cf0100-a39a-49c5-8a0a-09afd2ba6d19",
   "metadata": {},
   "source": [
    "### 🔹 Q8. From the below DataFrame, identify missing values and fill them using forward fill for each region."
   ]
  },
  {
   "cell_type": "code",
   "execution_count": 1,
   "id": "0ec0fccf-a7fe-4a18-9b36-345ca9bc6424",
   "metadata": {},
   "outputs": [],
   "source": [
    "import pandas as pd\n",
    "df = pd.DataFrame({\n",
    "    'Region': ['North', 'North', 'South', 'South', 'South'],\n",
    "    'Month': ['Jan', 'Feb', 'Jan', 'Feb', 'Mar'],\n",
    "    'Revenue': [200, None, 150, None, 180]\n",
    "})\n",
    "\n"
   ]
  },
  {
   "cell_type": "code",
   "execution_count": 3,
   "id": "de4caff2-0882-4ee8-8a2e-5eb911466e33",
   "metadata": {},
   "outputs": [],
   "source": [
    "df['Revenue'] = df.groupby('Region')['Revenue'].ffill()"
   ]
  },
  {
   "cell_type": "code",
   "execution_count": 4,
   "id": "460debdd-4e5c-4a9f-b4fd-8a98440ab32d",
   "metadata": {},
   "outputs": [
    {
     "data": {
      "text/html": [
       "<div>\n",
       "<style scoped>\n",
       "    .dataframe tbody tr th:only-of-type {\n",
       "        vertical-align: middle;\n",
       "    }\n",
       "\n",
       "    .dataframe tbody tr th {\n",
       "        vertical-align: top;\n",
       "    }\n",
       "\n",
       "    .dataframe thead th {\n",
       "        text-align: right;\n",
       "    }\n",
       "</style>\n",
       "<table border=\"1\" class=\"dataframe\">\n",
       "  <thead>\n",
       "    <tr style=\"text-align: right;\">\n",
       "      <th></th>\n",
       "      <th>Region</th>\n",
       "      <th>Month</th>\n",
       "      <th>Revenue</th>\n",
       "    </tr>\n",
       "  </thead>\n",
       "  <tbody>\n",
       "    <tr>\n",
       "      <th>0</th>\n",
       "      <td>North</td>\n",
       "      <td>Jan</td>\n",
       "      <td>200.0</td>\n",
       "    </tr>\n",
       "    <tr>\n",
       "      <th>1</th>\n",
       "      <td>North</td>\n",
       "      <td>Feb</td>\n",
       "      <td>200.0</td>\n",
       "    </tr>\n",
       "    <tr>\n",
       "      <th>2</th>\n",
       "      <td>South</td>\n",
       "      <td>Jan</td>\n",
       "      <td>150.0</td>\n",
       "    </tr>\n",
       "    <tr>\n",
       "      <th>3</th>\n",
       "      <td>South</td>\n",
       "      <td>Feb</td>\n",
       "      <td>150.0</td>\n",
       "    </tr>\n",
       "    <tr>\n",
       "      <th>4</th>\n",
       "      <td>South</td>\n",
       "      <td>Mar</td>\n",
       "      <td>180.0</td>\n",
       "    </tr>\n",
       "  </tbody>\n",
       "</table>\n",
       "</div>"
      ],
      "text/plain": [
       "  Region Month  Revenue\n",
       "0  North   Jan    200.0\n",
       "1  North   Feb    200.0\n",
       "2  South   Jan    150.0\n",
       "3  South   Feb    150.0\n",
       "4  South   Mar    180.0"
      ]
     },
     "execution_count": 4,
     "metadata": {},
     "output_type": "execute_result"
    }
   ],
   "source": [
    "df"
   ]
  }
 ],
 "metadata": {
  "kernelspec": {
   "display_name": "Python 3 (ipykernel)",
   "language": "python",
   "name": "python3"
  },
  "language_info": {
   "codemirror_mode": {
    "name": "ipython",
    "version": 3
   },
   "file_extension": ".py",
   "mimetype": "text/x-python",
   "name": "python",
   "nbconvert_exporter": "python",
   "pygments_lexer": "ipython3",
   "version": "3.11.13"
  }
 },
 "nbformat": 4,
 "nbformat_minor": 5
}
