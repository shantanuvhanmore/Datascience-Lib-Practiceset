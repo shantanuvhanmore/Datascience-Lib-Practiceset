{
 "cells": [
  {
   "cell_type": "markdown",
   "id": "f2847259-454f-4d7f-9fc6-47f69aedd77a",
   "metadata": {},
   "source": [
    "### 🔹 Q4. Group the following DataFrame by Category and Year, and calculate standard deviation of Sales.\n"
   ]
  },
  {
   "cell_type": "code",
   "execution_count": 2,
   "id": "f8762a1a-0c1f-43e1-829a-efd388001473",
   "metadata": {},
   "outputs": [],
   "source": [
    "import pandas as pd\n",
    "df = pd.DataFrame({\n",
    "    'Category': ['A', 'A', 'A', 'B', 'B', 'B'],\n",
    "    'Year': [2022, 2022, 2023, 2022, 2023, 2023],\n",
    "    'Sales': [200, 210, 250, 300, 320, 330]\n",
    "})\n",
    "\n"
   ]
  },
  {
   "cell_type": "code",
   "execution_count": 3,
   "id": "0d5d2e63-e59f-42b9-a2d2-267ee7e3a9a4",
   "metadata": {},
   "outputs": [
    {
     "data": {
      "text/plain": [
       "Category  Year\n",
       "A         2022    7.071068\n",
       "          2023         NaN\n",
       "B         2022         NaN\n",
       "          2023    7.071068\n",
       "Name: Sales, dtype: float64"
      ]
     },
     "execution_count": 3,
     "metadata": {},
     "output_type": "execute_result"
    }
   ],
   "source": [
    "df.groupby(['Category','Year'])['Sales'].std()"
   ]
  }
 ],
 "metadata": {
  "kernelspec": {
   "display_name": "Python 3 (ipykernel)",
   "language": "python",
   "name": "python3"
  },
  "language_info": {
   "codemirror_mode": {
    "name": "ipython",
    "version": 3
   },
   "file_extension": ".py",
   "mimetype": "text/x-python",
   "name": "python",
   "nbconvert_exporter": "python",
   "pygments_lexer": "ipython3",
   "version": "3.11.13"
  }
 },
 "nbformat": 4,
 "nbformat_minor": 5
}
