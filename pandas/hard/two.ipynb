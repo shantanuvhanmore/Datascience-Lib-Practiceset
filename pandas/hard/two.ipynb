{
 "cells": [
  {
   "cell_type": "markdown",
   "id": "2396fb49-426b-41b2-a244-702500836aa8",
   "metadata": {},
   "source": [
    "\n",
    "### 🔹 Q2. Given a sales DataFrame with datetime index, resample to get quarterly sum of sales.\n"
   ]
  },
  {
   "cell_type": "code",
   "execution_count": 2,
   "id": "fd9aa56f-0005-46fc-a7f4-6e43cf0d1ef6",
   "metadata": {},
   "outputs": [],
   "source": [
    "import pandas as pd\n",
    "df = pd.DataFrame({\n",
    "    'Sales': [150, 200, 100, 300, 250, 400],\n",
    "}, index=pd.to_datetime(['2023-01-15', '2023-02-20', '2023-03-05',\n",
    "                         '2023-04-10', '2023-05-22', '2023-06-01']))"
   ]
  },
  {
   "cell_type": "code",
   "execution_count": 5,
   "id": "800fa0ff-5c47-4008-91c0-fa190e8f475d",
   "metadata": {},
   "outputs": [
    {
     "data": {
      "text/html": [
       "<div>\n",
       "<style scoped>\n",
       "    .dataframe tbody tr th:only-of-type {\n",
       "        vertical-align: middle;\n",
       "    }\n",
       "\n",
       "    .dataframe tbody tr th {\n",
       "        vertical-align: top;\n",
       "    }\n",
       "\n",
       "    .dataframe thead th {\n",
       "        text-align: right;\n",
       "    }\n",
       "</style>\n",
       "<table border=\"1\" class=\"dataframe\">\n",
       "  <thead>\n",
       "    <tr style=\"text-align: right;\">\n",
       "      <th></th>\n",
       "      <th>Sales</th>\n",
       "    </tr>\n",
       "  </thead>\n",
       "  <tbody>\n",
       "    <tr>\n",
       "      <th>2023-03-31</th>\n",
       "      <td>450</td>\n",
       "    </tr>\n",
       "    <tr>\n",
       "      <th>2023-06-30</th>\n",
       "      <td>950</td>\n",
       "    </tr>\n",
       "  </tbody>\n",
       "</table>\n",
       "</div>"
      ],
      "text/plain": [
       "            Sales\n",
       "2023-03-31    450\n",
       "2023-06-30    950"
      ]
     },
     "execution_count": 5,
     "metadata": {},
     "output_type": "execute_result"
    }
   ],
   "source": [
    "df.resample('QE').sum()"
   ]
  }
 ],
 "metadata": {
  "kernelspec": {
   "display_name": "Python 3 (ipykernel)",
   "language": "python",
   "name": "python3"
  },
  "language_info": {
   "codemirror_mode": {
    "name": "ipython",
    "version": 3
   },
   "file_extension": ".py",
   "mimetype": "text/x-python",
   "name": "python",
   "nbconvert_exporter": "python",
   "pygments_lexer": "ipython3",
   "version": "3.11.13"
  }
 },
 "nbformat": 4,
 "nbformat_minor": 5
}
