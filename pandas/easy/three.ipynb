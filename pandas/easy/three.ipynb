{
 "cells": [
  {
   "cell_type": "markdown",
   "id": "889bc67f-ccb9-493f-8614-1af16f48abe4",
   "metadata": {},
   "source": [
    "**Q3. Print only the 'Name' and 'Marks' columns from the DataFrame.**"
   ]
  },
  {
   "cell_type": "code",
   "execution_count": 1,
   "id": "6a48202c-544e-4323-a747-6db5ed5374a4",
   "metadata": {},
   "outputs": [],
   "source": [
    "import pandas as pd"
   ]
  },
  {
   "cell_type": "code",
   "execution_count": 3,
   "id": "c5c81525-4374-439c-9c42-71ec2a2dcc1b",
   "metadata": {},
   "outputs": [],
   "source": [
    "data=pd.DataFrame({'Name': ['Amit', 'Bhavna', 'Chetan'],\n",
    "'Age': [21, 22, 23],\n",
    "'Marks': [87, 90, 85]})"
   ]
  },
  {
   "cell_type": "code",
   "execution_count": 5,
   "id": "471b04a7-b14e-40e7-9d14-8d0cc738812d",
   "metadata": {},
   "outputs": [
    {
     "name": "stdout",
     "output_type": "stream",
     "text": [
      "     Name  Marks\n",
      "0    Amit     87\n",
      "1  Bhavna     90\n",
      "2  Chetan     85\n"
     ]
    }
   ],
   "source": [
    "print(data[['Name','Marks']])"
   ]
  }
 ],
 "metadata": {
  "kernelspec": {
   "display_name": "Python 3 (ipykernel)",
   "language": "python",
   "name": "python3"
  },
  "language_info": {
   "codemirror_mode": {
    "name": "ipython",
    "version": 3
   },
   "file_extension": ".py",
   "mimetype": "text/x-python",
   "name": "python",
   "nbconvert_exporter": "python",
   "pygments_lexer": "ipython3",
   "version": "3.11.13"
  }
 },
 "nbformat": 4,
 "nbformat_minor": 5
}
