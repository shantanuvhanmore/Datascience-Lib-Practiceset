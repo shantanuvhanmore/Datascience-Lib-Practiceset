{
 "cells": [
  {
   "cell_type": "markdown",
   "id": "f9aff74e-22ec-47b5-b724-1aef15137775",
   "metadata": {},
   "source": [
    "**Q4. Add a new column 'Passed' that is True if Marks >= 85, else False.**"
   ]
  },
  {
   "cell_type": "code",
   "execution_count": 1,
   "id": "2c701910-fb99-4dcc-bfb1-b557af0fb72b",
   "metadata": {},
   "outputs": [],
   "source": [
    "import pandas as pd"
   ]
  },
  {
   "cell_type": "code",
   "execution_count": 2,
   "id": "8ef9db41-f0de-499e-b895-b14aa76a4adb",
   "metadata": {},
   "outputs": [],
   "source": [
    "data=pd.DataFrame({'Name': ['Amit', 'Bhavna', 'Chetan'],\n",
    "'Age': [21, 22, 23],\n",
    "'Marks': [87, 90, 85]})"
   ]
  },
  {
   "cell_type": "code",
   "execution_count": 4,
   "id": "f5899bc8-e85f-4697-99b1-f7ebdc28cc6c",
   "metadata": {},
   "outputs": [],
   "source": [
    "data['passed']=data['Marks']>=85"
   ]
  },
  {
   "cell_type": "code",
   "execution_count": 6,
   "id": "6969d46a-b0ae-49b1-bdd8-db66e50fcd25",
   "metadata": {},
   "outputs": [
    {
     "name": "stdout",
     "output_type": "stream",
     "text": [
      "{\"Name\":{\"0\":\"Amit\",\"1\":\"Bhavna\",\"2\":\"Chetan\"},\"Age\":{\"0\":21,\"1\":22,\"2\":23},\"Marks\":{\"0\":87,\"1\":90,\"2\":85},\"passed\":{\"0\":true,\"1\":true,\"2\":true}}\n"
     ]
    }
   ],
   "source": [
    "print(data.to_json())"
   ]
  },
  {
   "cell_type": "code",
   "execution_count": null,
   "id": "2fefebae-9431-443a-a6e4-24a1baec8cb3",
   "metadata": {},
   "outputs": [],
   "source": []
  }
 ],
 "metadata": {
  "kernelspec": {
   "display_name": "Python 3 (ipykernel)",
   "language": "python",
   "name": "python3"
  },
  "language_info": {
   "codemirror_mode": {
    "name": "ipython",
    "version": 3
   },
   "file_extension": ".py",
   "mimetype": "text/x-python",
   "name": "python",
   "nbconvert_exporter": "python",
   "pygments_lexer": "ipython3",
   "version": "3.11.13"
  }
 },
 "nbformat": 4,
 "nbformat_minor": 5
}
