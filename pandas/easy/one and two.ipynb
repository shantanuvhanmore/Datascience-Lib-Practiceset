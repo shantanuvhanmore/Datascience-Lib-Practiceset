{
 "cells": [
  {
   "cell_type": "markdown",
   "id": "77c6557d-f120-4236-8359-cb6b77e59265",
   "metadata": {},
   "source": [
    "**Q1. Create a Pandas DataFrame using a dictionary with the following data:**"
   ]
  },
  {
   "cell_type": "markdown",
   "id": "a39c1a63-1d69-4a6b-9c81-3f4893c4a1d9",
   "metadata": {},
   "source": [
    "Name: ['Amit', 'Bhavna', 'Chetan']  \n",
    "Age: [21, 22, 23]  \n",
    "Marks: [87, 90, 85]\n"
   ]
  },
  {
   "cell_type": "code",
   "execution_count": 1,
   "id": "84fdcdd2-9e9d-4b21-bb78-90f719187fee",
   "metadata": {},
   "outputs": [],
   "source": [
    "import pandas as pd"
   ]
  },
  {
   "cell_type": "code",
   "execution_count": 4,
   "id": "a2604d1f-4446-408a-abb1-2d0c71d67a6c",
   "metadata": {},
   "outputs": [],
   "source": [
    "dataframe=pd.DataFrame({'Name': ['Amit', 'Bhavna', 'Chetan'],\n",
    "'Age': [21, 22, 23],\n",
    "'Marks': [87, 90, 85]})"
   ]
  },
  {
   "cell_type": "code",
   "execution_count": 6,
   "id": "647439de-2a5e-4d0f-895a-e95dec7576c9",
   "metadata": {},
   "outputs": [
    {
     "data": {
      "text/html": [
       "<div>\n",
       "<style scoped>\n",
       "    .dataframe tbody tr th:only-of-type {\n",
       "        vertical-align: middle;\n",
       "    }\n",
       "\n",
       "    .dataframe tbody tr th {\n",
       "        vertical-align: top;\n",
       "    }\n",
       "\n",
       "    .dataframe thead th {\n",
       "        text-align: right;\n",
       "    }\n",
       "</style>\n",
       "<table border=\"1\" class=\"dataframe\">\n",
       "  <thead>\n",
       "    <tr style=\"text-align: right;\">\n",
       "      <th></th>\n",
       "      <th>Name</th>\n",
       "      <th>Age</th>\n",
       "      <th>Marks</th>\n",
       "    </tr>\n",
       "  </thead>\n",
       "  <tbody>\n",
       "    <tr>\n",
       "      <th>0</th>\n",
       "      <td>Amit</td>\n",
       "      <td>21</td>\n",
       "      <td>87</td>\n",
       "    </tr>\n",
       "    <tr>\n",
       "      <th>1</th>\n",
       "      <td>Bhavna</td>\n",
       "      <td>22</td>\n",
       "      <td>90</td>\n",
       "    </tr>\n",
       "    <tr>\n",
       "      <th>2</th>\n",
       "      <td>Chetan</td>\n",
       "      <td>23</td>\n",
       "      <td>85</td>\n",
       "    </tr>\n",
       "  </tbody>\n",
       "</table>\n",
       "</div>"
      ],
      "text/plain": [
       "     Name  Age  Marks\n",
       "0    Amit   21     87\n",
       "1  Bhavna   22     90\n",
       "2  Chetan   23     85"
      ]
     },
     "execution_count": 6,
     "metadata": {},
     "output_type": "execute_result"
    }
   ],
   "source": [
    "dataframe"
   ]
  },
  {
   "cell_type": "markdown",
   "id": "016b8062-b725-412b-a01d-3b7e83fa6e45",
   "metadata": {},
   "source": [
    "."
   ]
  },
  {
   "cell_type": "markdown",
   "id": "988530c0-2857-4679-8d18-6dab97a54880",
   "metadata": {},
   "source": [
    "**Q2. Print the first 2 rows of the DataFrame created in Q1.**"
   ]
  },
  {
   "cell_type": "code",
   "execution_count": 10,
   "id": "30d856e1-f55d-4c6d-af6a-456855f87478",
   "metadata": {},
   "outputs": [
    {
     "name": "stdout",
     "output_type": "stream",
     "text": [
      "     Name  Age  Marks\n",
      "0    Amit   21     87\n",
      "1  Bhavna   22     90\n"
     ]
    }
   ],
   "source": [
    "print(dataframe.head(2))"
   ]
  }
 ],
 "metadata": {
  "kernelspec": {
   "display_name": "Python 3 (ipykernel)",
   "language": "python",
   "name": "python3"
  },
  "language_info": {
   "codemirror_mode": {
    "name": "ipython",
    "version": 3
   },
   "file_extension": ".py",
   "mimetype": "text/x-python",
   "name": "python",
   "nbconvert_exporter": "python",
   "pygments_lexer": "ipython3",
   "version": "3.11.13"
  }
 },
 "nbformat": 4,
 "nbformat_minor": 5
}
