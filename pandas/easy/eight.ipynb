{
 "cells": [
  {
   "cell_type": "markdown",
   "id": "e15063a0-12f1-4d8d-91e3-97b54fb8070b",
   "metadata": {},
   "source": [
    "**Q8. Save the DataFrame to a CSV file named students.csv (no index column).**"
   ]
  },
  {
   "cell_type": "code",
   "execution_count": 1,
   "id": "67a16d08-0399-420e-b6ce-18564a06c987",
   "metadata": {},
   "outputs": [],
   "source": [
    "import pandas as pd"
   ]
  },
  {
   "cell_type": "code",
   "execution_count": 6,
   "id": "36c7f486-9aeb-4aac-bd5f-91c12fa5ab07",
   "metadata": {},
   "outputs": [],
   "source": [
    "data=pd.DataFrame({\"Name\":{\"0\":\"Amit\",\"1\":\"Bhavna\",\"2\":\"Chetan\"},\"Age\":{\"0\":21,\"1\":22,\"2\":23},\"Marks\":{\"0\":87,\"1\":90,\"2\":85},\"passed\":{\"0\":\"true\",\"1\":\"true\",\"2\":\"true\"}})"
   ]
  },
  {
   "cell_type": "code",
   "execution_count": 7,
   "id": "511486b5-6dc7-45c4-9da5-af9b4d383fe0",
   "metadata": {},
   "outputs": [],
   "source": [
    "data.to_csv(\"students.csv\", index=False)"
   ]
  }
 ],
 "metadata": {
  "kernelspec": {
   "display_name": "Python 3 (ipykernel)",
   "language": "python",
   "name": "python3"
  },
  "language_info": {
   "codemirror_mode": {
    "name": "ipython",
    "version": 3
   },
   "file_extension": ".py",
   "mimetype": "text/x-python",
   "name": "python",
   "nbconvert_exporter": "python",
   "pygments_lexer": "ipython3",
   "version": "3.11.13"
  }
 },
 "nbformat": 4,
 "nbformat_minor": 5
}
