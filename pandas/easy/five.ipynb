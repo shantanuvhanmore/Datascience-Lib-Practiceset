{
 "cells": [
  {
   "cell_type": "markdown",
   "id": "b3bc5b48-9d75-478d-8480-97a2d8533605",
   "metadata": {},
   "source": [
    "**Q5. What is the average of the 'Marks' column?**"
   ]
  },
  {
   "cell_type": "code",
   "execution_count": 1,
   "id": "d7771534-65ce-480f-9ae9-e73508210930",
   "metadata": {},
   "outputs": [],
   "source": [
    "import pandas as pd"
   ]
  },
  {
   "cell_type": "code",
   "execution_count": 3,
   "id": "3685fe58-3db4-482b-8f09-2074da7037fc",
   "metadata": {},
   "outputs": [],
   "source": [
    "data = pd.DataFrame({\"Name\":{\"0\":\"Amit\",\"1\":\"Bhavna\",\"2\":\"Chetan\"},\"Age\":{\"0\":21,\"1\":22,\"2\":23},\"Marks\":{\"0\":87,\"1\":90,\"2\":85},\"passed\":{\"0\":\"true\",\"1\":\"true\",\"2\":\"true\"}})"
   ]
  },
  {
   "cell_type": "code",
   "execution_count": 4,
   "id": "cc225ed2-2839-4f1b-9419-fcefc287e5a3",
   "metadata": {},
   "outputs": [
    {
     "name": "stdout",
     "output_type": "stream",
     "text": [
      "87.33333333333333\n"
     ]
    }
   ],
   "source": [
    "print(data['Marks'].mean())"
   ]
  },
  {
   "cell_type": "code",
   "execution_count": null,
   "id": "88cc581b-1d0c-4b12-bd1b-c67e69c27f1c",
   "metadata": {},
   "outputs": [],
   "source": []
  }
 ],
 "metadata": {
  "kernelspec": {
   "display_name": "Python 3 (ipykernel)",
   "language": "python",
   "name": "python3"
  },
  "language_info": {
   "codemirror_mode": {
    "name": "ipython",
    "version": 3
   },
   "file_extension": ".py",
   "mimetype": "text/x-python",
   "name": "python",
   "nbconvert_exporter": "python",
   "pygments_lexer": "ipython3",
   "version": "3.11.13"
  }
 },
 "nbformat": 4,
 "nbformat_minor": 5
}
